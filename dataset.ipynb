{
 "cells": [
  {
   "cell_type": "code",
   "execution_count": 6,
   "id": "d374b73d",
   "metadata": {},
   "outputs": [],
   "source": [
    "from azureml.core import Workspace, Datastore, Dataset\n",
    "\n"
   ]
  },
  {
   "cell_type": "code",
   "execution_count": 7,
   "id": "2dff41c6",
   "metadata": {},
   "outputs": [],
   "source": [
    "ws = Workspace.from_config()\n"
   ]
  },
  {
   "cell_type": "code",
   "execution_count": 3,
   "id": "3fd60c31",
   "metadata": {},
   "outputs": [],
   "source": [
    "#create a datastore\n",
    "az_store = Datastore.register_azure_blob_container(\n",
    "    workspace=ws,\n",
    "    datastore_name=\"azure_sdk_nse_blob\",\n",
    "    account_name=\"nseblob\",\n",
    "    container_name=\"gold\", \n",
    "    account_key=\"thGD5YyuxbxT+v9VM8dyKGCkVaQXBugFA7xFARaZJ5PgaYCs1w1sBZyga8gEh0ERsD80+oIkTpgq+AStmna9IQ==\"\n",
    ")\n"
   ]
  },
  {
   "cell_type": "code",
   "execution_count": 4,
   "id": "dab4b4b6",
   "metadata": {},
   "outputs": [],
   "source": [
    "az_store = Datastore.get(ws, \"azure_sdk_nse_blob\")"
   ]
  },
  {
   "cell_type": "code",
   "execution_count": null,
   "id": "931137e6",
   "metadata": {},
   "outputs": [],
   "source": [
    "nse_store_ = Datastore.get(ws, \"nsemldatastore\")"
   ]
  },
  {
   "cell_type": "markdown",
   "id": "36b3ce98",
   "metadata": {},
   "source": []
  },
  {
   "cell_type": "code",
   "execution_count": 9,
   "id": "772a1429",
   "metadata": {},
   "outputs": [],
   "source": [
    "csv_path = [(az_store, \"final_nse.csv\")]\n",
    "stock_dataset = Dataset.Tabular.from_delimited_files(path=csv_path)\n",
    "stock_dataset = stock_dataset.register(workspace=ws, name=\"stocks_data\", create_new_version=True)"
   ]
  },
  {
   "cell_type": "code",
   "execution_count": 10,
   "id": "20fbd0c9",
   "metadata": {},
   "outputs": [
    {
     "name": "stdout",
     "output_type": "stream",
     "text": [
      "{'infer_column_types': 'False', 'activity': 'to_pandas_dataframe'}\n",
      "{'infer_column_types': 'False', 'activity': 'to_pandas_dataframe', 'activityApp': 'TabularDataset'}\n"
     ]
    },
    {
     "data": {
      "text/html": [
       "<div>\n",
       "<style scoped>\n",
       "    .dataframe tbody tr th:only-of-type {\n",
       "        vertical-align: middle;\n",
       "    }\n",
       "\n",
       "    .dataframe tbody tr th {\n",
       "        vertical-align: top;\n",
       "    }\n",
       "\n",
       "    .dataframe thead th {\n",
       "        text-align: right;\n",
       "    }\n",
       "</style>\n",
       "<table border=\"1\" class=\"dataframe\">\n",
       "  <thead>\n",
       "    <tr style=\"text-align: right;\">\n",
       "      <th></th>\n",
       "      <th>{\"added\":[\"part-00000-tid-2851762277807613748-64d9a1d8-4638-45d7-a238-b7156ef5e6ff-53-1-c000.csv\"</th>\n",
       "      <th>part-00001-tid-2851762277807613748-64d9a1d8-4638-45d7-a238-b7156ef5e6ff-54-1-c000.csv</th>\n",
       "      <th>part-00002-tid-2851762277807613748-64d9a1d8-4638-45d7-a238-b7156ef5e6ff-55-1-c000.csv</th>\n",
       "      <th>part-00003-tid-2851762277807613748-64d9a1d8-4638-45d7-a238-b7156ef5e6ff-56-1-c000.csv]</th>\n",
       "      <th>removed:[]}</th>\n",
       "      <th>Column6</th>\n",
       "      <th>Column7</th>\n",
       "    </tr>\n",
       "  </thead>\n",
       "  <tbody>\n",
       "    <tr>\n",
       "      <th>0</th>\n",
       "      <td>2022-01-06</td>\n",
       "      <td>2230.428711</td>\n",
       "      <td>3807.449951</td>\n",
       "      <td>1539.750000</td>\n",
       "      <td>-0.021736</td>\n",
       "      <td>-0.013954</td>\n",
       "      <td>-0.016170</td>\n",
       "    </tr>\n",
       "    <tr>\n",
       "      <th>1</th>\n",
       "      <td>2022-01-07</td>\n",
       "      <td>2248.427246</td>\n",
       "      <td>3853.500000</td>\n",
       "      <td>1550.550049</td>\n",
       "      <td>0.008037</td>\n",
       "      <td>0.012022</td>\n",
       "      <td>0.006990</td>\n",
       "    </tr>\n",
       "    <tr>\n",
       "      <th>2</th>\n",
       "      <td>2022-01-10</td>\n",
       "      <td>2250.273193</td>\n",
       "      <td>3879.850098</td>\n",
       "      <td>1559.150024</td>\n",
       "      <td>0.000821</td>\n",
       "      <td>0.006815</td>\n",
       "      <td>0.005531</td>\n",
       "    </tr>\n",
       "    <tr>\n",
       "      <th>3</th>\n",
       "      <td>2022-01-11</td>\n",
       "      <td>2266.471924</td>\n",
       "      <td>3915.899902</td>\n",
       "      <td>1565.900024</td>\n",
       "      <td>0.007173</td>\n",
       "      <td>0.009249</td>\n",
       "      <td>0.004320</td>\n",
       "    </tr>\n",
       "    <tr>\n",
       "      <th>4</th>\n",
       "      <td>2022-01-12</td>\n",
       "      <td>2326.974365</td>\n",
       "      <td>3859.899902</td>\n",
       "      <td>1556.650024</td>\n",
       "      <td>0.026344</td>\n",
       "      <td>-0.014404</td>\n",
       "      <td>-0.005925</td>\n",
       "    </tr>\n",
       "  </tbody>\n",
       "</table>\n",
       "</div>"
      ],
      "text/plain": [
       "  {\"added\":[\"part-00000-tid-2851762277807613748-64d9a1d8-4638-45d7-a238-b7156ef5e6ff-53-1-c000.csv\"  \\\n",
       "0                                         2022-01-06                                                  \n",
       "1                                         2022-01-07                                                  \n",
       "2                                         2022-01-10                                                  \n",
       "3                                         2022-01-11                                                  \n",
       "4                                         2022-01-12                                                  \n",
       "\n",
       "   part-00001-tid-2851762277807613748-64d9a1d8-4638-45d7-a238-b7156ef5e6ff-54-1-c000.csv  \\\n",
       "0                                        2230.428711                                       \n",
       "1                                        2248.427246                                       \n",
       "2                                        2250.273193                                       \n",
       "3                                        2266.471924                                       \n",
       "4                                        2326.974365                                       \n",
       "\n",
       "   part-00002-tid-2851762277807613748-64d9a1d8-4638-45d7-a238-b7156ef5e6ff-55-1-c000.csv  \\\n",
       "0                                        3807.449951                                       \n",
       "1                                        3853.500000                                       \n",
       "2                                        3879.850098                                       \n",
       "3                                        3915.899902                                       \n",
       "4                                        3859.899902                                       \n",
       "\n",
       "   part-00003-tid-2851762277807613748-64d9a1d8-4638-45d7-a238-b7156ef5e6ff-56-1-c000.csv]  \\\n",
       "0                                        1539.750000                                        \n",
       "1                                        1550.550049                                        \n",
       "2                                        1559.150024                                        \n",
       "3                                        1565.900024                                        \n",
       "4                                        1556.650024                                        \n",
       "\n",
       "   removed:[]}   Column6   Column7  \n",
       "0    -0.021736 -0.013954 -0.016170  \n",
       "1     0.008037  0.012022  0.006990  \n",
       "2     0.000821  0.006815  0.005531  \n",
       "3     0.007173  0.009249  0.004320  \n",
       "4     0.026344 -0.014404 -0.005925  "
      ]
     },
     "execution_count": 10,
     "metadata": {},
     "output_type": "execute_result"
    }
   ],
   "source": [
    "df = stock_dataset.to_pandas_dataframe()\n",
    "df.head()"
   ]
  },
  {
   "cell_type": "code",
   "execution_count": 13,
   "id": "90550e44",
   "metadata": {},
   "outputs": [
    {
     "name": "stdout",
     "output_type": "stream",
     "text": [
      "<class 'pandas.core.frame.DataFrame'>\n",
      "RangeIndex: 615 entries, 0 to 614\n",
      "Data columns (total 7 columns):\n",
      " #   Column        Non-Null Count  Dtype         \n",
      "---  ------        --------------  -----         \n",
      " 0   Date          615 non-null    datetime64[ns]\n",
      " 1   Reliance      615 non-null    float64       \n",
      " 2   TCS           615 non-null    float64       \n",
      " 3   HDFC_BANK     615 non-null    float64       \n",
      " 4   Reliance_log  615 non-null    float64       \n",
      " 5   TCS_logs      615 non-null    float64       \n",
      " 6   HDFC_logs     615 non-null    float64       \n",
      "dtypes: datetime64[ns](1), float64(6)\n",
      "memory usage: 33.8 KB\n"
     ]
    }
   ],
   "source": [
    "\n",
    "df.columns = ['Date', 'Reliance', 'TCS', 'HDFC_BANK', 'Reliance_log', 'TCS_logs', 'HDFC_logs']\n",
    "df.info()"
   ]
  },
  {
   "cell_type": "code",
   "execution_count": 14,
   "id": "9c9104c6",
   "metadata": {},
   "outputs": [
    {
     "data": {
      "text/html": [
       "<div>\n",
       "<style scoped>\n",
       "    .dataframe tbody tr th:only-of-type {\n",
       "        vertical-align: middle;\n",
       "    }\n",
       "\n",
       "    .dataframe tbody tr th {\n",
       "        vertical-align: top;\n",
       "    }\n",
       "\n",
       "    .dataframe thead th {\n",
       "        text-align: right;\n",
       "    }\n",
       "</style>\n",
       "<table border=\"1\" class=\"dataframe\">\n",
       "  <thead>\n",
       "    <tr style=\"text-align: right;\">\n",
       "      <th></th>\n",
       "      <th>Date</th>\n",
       "      <th>Reliance</th>\n",
       "      <th>TCS</th>\n",
       "      <th>HDFC_BANK</th>\n",
       "      <th>Reliance_log</th>\n",
       "      <th>TCS_logs</th>\n",
       "      <th>HDFC_logs</th>\n",
       "    </tr>\n",
       "  </thead>\n",
       "  <tbody>\n",
       "    <tr>\n",
       "      <th>0</th>\n",
       "      <td>2022-01-06</td>\n",
       "      <td>2230.428711</td>\n",
       "      <td>3807.449951</td>\n",
       "      <td>1539.750000</td>\n",
       "      <td>-0.021736</td>\n",
       "      <td>-0.013954</td>\n",
       "      <td>-0.016170</td>\n",
       "    </tr>\n",
       "    <tr>\n",
       "      <th>1</th>\n",
       "      <td>2022-01-07</td>\n",
       "      <td>2248.427246</td>\n",
       "      <td>3853.500000</td>\n",
       "      <td>1550.550049</td>\n",
       "      <td>0.008037</td>\n",
       "      <td>0.012022</td>\n",
       "      <td>0.006990</td>\n",
       "    </tr>\n",
       "    <tr>\n",
       "      <th>2</th>\n",
       "      <td>2022-01-10</td>\n",
       "      <td>2250.273193</td>\n",
       "      <td>3879.850098</td>\n",
       "      <td>1559.150024</td>\n",
       "      <td>0.000821</td>\n",
       "      <td>0.006815</td>\n",
       "      <td>0.005531</td>\n",
       "    </tr>\n",
       "    <tr>\n",
       "      <th>3</th>\n",
       "      <td>2022-01-11</td>\n",
       "      <td>2266.471924</td>\n",
       "      <td>3915.899902</td>\n",
       "      <td>1565.900024</td>\n",
       "      <td>0.007173</td>\n",
       "      <td>0.009249</td>\n",
       "      <td>0.004320</td>\n",
       "    </tr>\n",
       "    <tr>\n",
       "      <th>4</th>\n",
       "      <td>2022-01-12</td>\n",
       "      <td>2326.974365</td>\n",
       "      <td>3859.899902</td>\n",
       "      <td>1556.650024</td>\n",
       "      <td>0.026344</td>\n",
       "      <td>-0.014404</td>\n",
       "      <td>-0.005925</td>\n",
       "    </tr>\n",
       "  </tbody>\n",
       "</table>\n",
       "</div>"
      ],
      "text/plain": [
       "        Date     Reliance          TCS    HDFC_BANK  Reliance_log  TCS_logs  \\\n",
       "0 2022-01-06  2230.428711  3807.449951  1539.750000     -0.021736 -0.013954   \n",
       "1 2022-01-07  2248.427246  3853.500000  1550.550049      0.008037  0.012022   \n",
       "2 2022-01-10  2250.273193  3879.850098  1559.150024      0.000821  0.006815   \n",
       "3 2022-01-11  2266.471924  3915.899902  1565.900024      0.007173  0.009249   \n",
       "4 2022-01-12  2326.974365  3859.899902  1556.650024      0.026344 -0.014404   \n",
       "\n",
       "   HDFC_logs  \n",
       "0  -0.016170  \n",
       "1   0.006990  \n",
       "2   0.005531  \n",
       "3   0.004320  \n",
       "4  -0.005925  "
      ]
     },
     "execution_count": 14,
     "metadata": {},
     "output_type": "execute_result"
    }
   ],
   "source": [
    "df.head()"
   ]
  },
  {
   "cell_type": "code",
   "execution_count": 18,
   "id": "25791c27",
   "metadata": {},
   "outputs": [
    {
     "name": "stdout",
     "output_type": "stream",
     "text": [
      "Validating arguments.\n",
      "Arguments validated.\n",
      "Validating arguments.\n",
      "Arguments validated.\n",
      "'overwrite' is set to True. Any file already present in the target will be overwritten.\n",
      "Uploading files from '/var/folders/wr/t5xf55zd25nb7nlgf18884580000gn/T/tmpwxlka0ue' to 'managed-dataset/c3328029-3b4e-4034-9726-a45cdaf67b61/'\n",
      "Copying 1 files with concurrency set to 1\n",
      "Copied /var/folders/wr/t5xf55zd25nb7nlgf18884580000gn/T/tmpwxlka0ue/dataframe.parquet, file 1 out of 1. Destination path: https://nseblob.blob.core.windows.net/gold/managed-dataset/c3328029-3b4e-4034-9726-a45cdaf67b61/dataframe.parquet\n",
      "Files copied=1, skipped=0, failed=0\n",
      "Successfully uploaded file to datastore.\n",
      "Creating and registering a new dataset.\n",
      "Successfully created and registered a new dataset.\n"
     ]
    }
   ],
   "source": [
    "az_ds_from_df = Dataset.Tabular.register_pandas_dataframe(\n",
    "    dataframe=df,\n",
    "    target=az_store,\n",
    "    name=\"stock_dataset_dataframe\",\n",
    "    show_progress=True,\n",
    "    description=\"Stock dataset uploaded as CSV\",\n",
    "     # Ensure it's saved as CSV instead of Parquet\n",
    ")"
   ]
  },
  {
   "cell_type": "code",
   "execution_count": 16,
   "id": "868daed0",
   "metadata": {},
   "outputs": [
    {
     "name": "stdout",
     "output_type": "stream",
     "text": [
      "<class 'pandas.core.frame.DataFrame'>\n",
      "RangeIndex: 615 entries, 0 to 614\n",
      "Data columns (total 7 columns):\n",
      " #   Column        Non-Null Count  Dtype         \n",
      "---  ------        --------------  -----         \n",
      " 0   Date          615 non-null    datetime64[ns]\n",
      " 1   Reliance      615 non-null    float64       \n",
      " 2   TCS           615 non-null    float64       \n",
      " 3   HDFC_BANK     615 non-null    float64       \n",
      " 4   Reliance_log  615 non-null    float64       \n",
      " 5   TCS_logs      615 non-null    float64       \n",
      " 6   HDFC_logs     615 non-null    float64       \n",
      "dtypes: datetime64[ns](1), float64(6)\n",
      "memory usage: 33.8 KB\n"
     ]
    }
   ],
   "source": [
    "df.info()"
   ]
  },
  {
   "cell_type": "code",
   "execution_count": 21,
   "id": "cd060466",
   "metadata": {},
   "outputs": [],
   "source": [
    "#nse_dataset = Dataset.get_by_name(ws, \"nse_dataasset\")\n",
    "store_list = list(ws.datastores)"
   ]
  },
  {
   "cell_type": "code",
   "execution_count": 22,
   "id": "a90c8d53",
   "metadata": {},
   "outputs": [
    {
     "name": "stdout",
     "output_type": "stream",
     "text": [
      "['azure_sdk_nse_blob', 'azureml_globaldatasets', 'nsemldatastore', 'workspaceworkingdirectory', 'workspaceartifactstore', 'workspacefilestore', 'workspaceblobstore']\n"
     ]
    }
   ],
   "source": [
    "print(store_list)"
   ]
  },
  {
   "cell_type": "code",
   "execution_count": 23,
   "id": "f3974954",
   "metadata": {},
   "outputs": [
    {
     "name": "stdout",
     "output_type": "stream",
     "text": [
      "stock_dataset_dataframe\n",
      "stocks_data\n"
     ]
    }
   ],
   "source": [
    "ds_list = list(ws.datasets.keys())\n",
    "for items in ds_list:\n",
    "    print(items)"
   ]
  },
  {
   "cell_type": "code",
   "execution_count": 31,
   "id": "909849a0",
   "metadata": {},
   "outputs": [
    {
     "name": "stdout",
     "output_type": "stream",
     "text": [
      "Uploading an estimated of 1 files\n",
      "Uploading ./data/stocks_data.csv\n",
      "Uploaded ./data/stocks_data.csv, 1 files out of an estimated total of 1\n",
      "Uploaded 1 files\n"
     ]
    },
    {
     "data": {
      "text/plain": [
       "$AZUREML_DATAREFERENCE_azure_sdk_nse_blob"
      ]
     },
     "execution_count": 31,
     "metadata": {},
     "output_type": "execute_result"
    }
   ],
   "source": [
    "file_list = ['./data/stocks_data.csv']\n",
    "az_store.upload_files(files=file_list,\n",
    "                      target_path='',\n",
    "                      relative_root='',\n",
    "                      overwrite=True)"
   ]
  },
  {
   "cell_type": "code",
   "execution_count": 32,
   "id": "f3502e96",
   "metadata": {},
   "outputs": [],
   "source": [
    "csv_path = [(az_store, \"stocks_data.csv\")]\n",
    "final_dataset = Dataset.Tabular.from_delimited_files(path=csv_path)\n",
    "final_dataset = final_dataset.register(workspace=ws, name=\"final_data_stocks\", create_new_version=True)"
   ]
  },
  {
   "cell_type": "code",
   "execution_count": null,
   "id": "64aa9541",
   "metadata": {},
   "outputs": [],
   "source": []
  }
 ],
 "metadata": {
  "kernelspec": {
   "display_name": "my_env",
   "language": "python",
   "name": "python3"
  },
  "language_info": {
   "codemirror_mode": {
    "name": "ipython",
    "version": 3
   },
   "file_extension": ".py",
   "mimetype": "text/x-python",
   "name": "python",
   "nbconvert_exporter": "python",
   "pygments_lexer": "ipython3",
   "version": "3.9.6"
  }
 },
 "nbformat": 4,
 "nbformat_minor": 5
}
