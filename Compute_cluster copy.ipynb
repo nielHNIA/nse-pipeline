{
 "cells": [
  {
   "cell_type": "code",
   "execution_count": 5,
   "id": "2dff41c6",
   "metadata": {},
   "outputs": [],
   "source": [
    "from azureml.core import Workspace\n",
    "from azureml.core.compute import DatabricksCompute, ComputeTarget\n",
    "from azureml.core.compute import AmlCompute\n",
    "from azureml.exceptions import ComputeTargetException\n",
    "\n",
    "\n",
    "\n",
    "\n",
    "\n",
    "\n"
   ]
  },
  {
   "cell_type": "code",
   "execution_count": 6,
   "id": "7f2ddfa1",
   "metadata": {},
   "outputs": [
    {
     "name": "stdout",
     "output_type": "stream",
     "text": [
      "Accessing the AzureML workspace...\n"
     ]
    }
   ],
   "source": [
    "# Access the Workspace\n",
    "print(\"Accessing the AzureML workspace...\")\n",
    "ws = Workspace.from_config(\"./config\")\n",
    "\n"
   ]
  },
  {
   "cell_type": "code",
   "execution_count": 8,
   "id": "cf316684",
   "metadata": {},
   "outputs": [
    {
     "name": "stdout",
     "output_type": "stream",
     "text": [
      "Creating compute target 'my-cluster'...\n",
      "InProgress..\n",
      "SucceededProvisioning operation finished, operation \"Succeeded\"\n",
      "Succeeded\n",
      "AmlCompute wait for completion finished\n",
      "\n",
      "Minimum number of nodes requested have been provisioned\n"
     ]
    }
   ],
   "source": [
    "# Define compute name\n",
    "compute_name = \"my-cluster\"\n",
    "\n",
    "# Define compute configuration\n",
    "compute_config = AmlCompute.provisioning_configuration(vm_size=\"STANDARD_D2_V2\",\n",
    "                                                       max_nodes=2)\n",
    "\n",
    "try:\n",
    "    compute_target = ComputeTarget(ws, compute_name)\n",
    "    print(f\"Using existing compute target: {compute_name}\")\n",
    "except ComputeTargetException:\n",
    "    print(f\"Creating compute target '{compute_name}'...\")\n",
    "    compute_target = AmlCompute.create(ws, compute_name, compute_config)\n",
    "    compute_target.wait_for_completion(show_output=True)\n"
   ]
  },
  {
   "cell_type": "code",
   "execution_count": null,
   "id": "e7b56e16",
   "metadata": {},
   "outputs": [],
   "source": []
  }
 ],
 "metadata": {
  "kernelspec": {
   "display_name": "my_env",
   "language": "python",
   "name": "python3"
  },
  "language_info": {
   "codemirror_mode": {
    "name": "ipython",
    "version": 3
   },
   "file_extension": ".py",
   "mimetype": "text/x-python",
   "name": "python",
   "nbconvert_exporter": "python",
   "pygments_lexer": "ipython3",
   "version": "3.9.6"
  }
 },
 "nbformat": 4,
 "nbformat_minor": 5
}
