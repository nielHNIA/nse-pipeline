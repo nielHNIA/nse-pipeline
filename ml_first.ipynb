{
 "cells": [
  {
   "cell_type": "code",
   "execution_count": 5,
   "id": "91013a5b",
   "metadata": {},
   "outputs": [],
   "source": [
    "import azure.core\n",
    "from azureml.core import Workspace,Environment,Experiment,ScriptRunConfig\n",
    "from azureml.core.compute import AmlCompute, ComputeTarget\n",
    "from azureml.core.compute_target import ComputeTargetException\n",
    "import json\n",
    "from azure.ai.ml import MLClient\n",
    "from azure.identity import DefaultAzureCredential"
   ]
  },
  {
   "cell_type": "code",
   "execution_count": 11,
   "id": "07c853ca",
   "metadata": {},
   "outputs": [
    {
     "name": "stderr",
     "output_type": "stream",
     "text": [
      "Retrying due to transient client side error HTTPSConnectionPool(host='dc.services.visualstudio.com', port=443): Max retries exceeded with url: /v2.1/track (Caused by SSLError(SSLEOFError(8, 'EOF occurred in violation of protocol (_ssl.c:1129)'))).\n",
      "Retrying due to transient client side error HTTPSConnectionPool(host='dc.services.visualstudio.com', port=443): Max retries exceeded with url: /v2.1/track (Caused by SSLError(SSLEOFError(8, 'EOF occurred in violation of protocol (_ssl.c:1129)'))).\n",
      "Retrying due to transient client side error HTTPSConnectionPool(host='dc.services.visualstudio.com', port=443): Max retries exceeded with url: /v2.1/track (Caused by SSLError(SSLEOFError(8, 'EOF occurred in violation of protocol (_ssl.c:1129)'))).\n",
      "Retrying due to transient client side error HTTPSConnectionPool(host='dc.services.visualstudio.com', port=443): Max retries exceeded with url: /v2.1/track (Caused by SSLError(SSLEOFError(8, 'EOF occurred in violation of protocol (_ssl.c:1129)'))).\n",
      "Retrying due to transient client side error HTTPSConnectionPool(host='dc.services.visualstudio.com', port=443): Max retries exceeded with url: /v2.1/track (Caused by SSLError(SSLEOFError(8, 'EOF occurred in violation of protocol (_ssl.c:1129)'))).\n",
      "Retrying due to transient client side error HTTPSConnectionPool(host='dc.services.visualstudio.com', port=443): Max retries exceeded with url: /v2.1/track (Caused by SSLError(SSLEOFError(8, 'EOF occurred in violation of protocol (_ssl.c:1129)'))).\n",
      "Retrying due to transient client side error HTTPSConnectionPool(host='dc.services.visualstudio.com', port=443): Max retries exceeded with url: /v2.1/track (Caused by SSLError(SSLEOFError(8, 'EOF occurred in violation of protocol (_ssl.c:1129)'))).\n",
      "Retrying due to transient client side error HTTPSConnectionPool(host='dc.services.visualstudio.com', port=443): Max retries exceeded with url: /v2.1/track (Caused by SSLError(SSLEOFError(8, 'EOF occurred in violation of protocol (_ssl.c:1129)'))).\n",
      "Retrying due to transient client side error HTTPSConnectionPool(host='dc.services.visualstudio.com', port=443): Max retries exceeded with url: /v2.1/track (Caused by SSLError(SSLEOFError(8, 'EOF occurred in violation of protocol (_ssl.c:1129)'))).\n",
      "Retrying due to transient client side error HTTPSConnectionPool(host='dc.services.visualstudio.com', port=443): Max retries exceeded with url: /v2.1/track (Caused by SSLError(SSLEOFError(8, 'EOF occurred in violation of protocol (_ssl.c:1129)'))).\n",
      "Retrying due to transient client side error HTTPSConnectionPool(host='dc.services.visualstudio.com', port=443): Max retries exceeded with url: /v2.1/track (Caused by SSLError(SSLEOFError(8, 'EOF occurred in violation of protocol (_ssl.c:1129)'))).\n",
      "Retrying due to transient client side error HTTPSConnectionPool(host='dc.services.visualstudio.com', port=443): Max retries exceeded with url: /v2.1/track (Caused by SSLError(SSLEOFError(8, 'EOF occurred in violation of protocol (_ssl.c:1129)'))).\n",
      "Retrying due to transient client side error HTTPSConnectionPool(host='dc.services.visualstudio.com', port=443): Max retries exceeded with url: /v2.1/track (Caused by SSLError(SSLEOFError(8, 'EOF occurred in violation of protocol (_ssl.c:1129)'))).\n",
      "Retrying due to transient client side error HTTPSConnectionPool(host='dc.services.visualstudio.com', port=443): Max retries exceeded with url: /v2.1/track (Caused by SSLError(SSLEOFError(8, 'EOF occurred in violation of protocol (_ssl.c:1129)'))).\n",
      "Retrying due to transient client side error HTTPSConnectionPool(host='dc.services.visualstudio.com', port=443): Max retries exceeded with url: /v2.1/track (Caused by SSLError(SSLEOFError(8, 'EOF occurred in violation of protocol (_ssl.c:1129)'))).\n",
      "Retrying due to transient client side error HTTPSConnectionPool(host='dc.services.visualstudio.com', port=443): Max retries exceeded with url: /v2.1/track (Caused by SSLError(SSLEOFError(8, 'EOF occurred in violation of protocol (_ssl.c:1129)'))).\n",
      "Retrying due to transient client side error HTTPSConnectionPool(host='dc.services.visualstudio.com', port=443): Max retries exceeded with url: /v2.1/track (Caused by SSLError(SSLEOFError(8, 'EOF occurred in violation of protocol (_ssl.c:1129)'))).\n",
      "Retrying due to transient client side error HTTPSConnectionPool(host='dc.services.visualstudio.com', port=443): Max retries exceeded with url: /v2.1/track (Caused by SSLError(SSLEOFError(8, 'EOF occurred in violation of protocol (_ssl.c:1129)'))).\n",
      "Retrying due to transient client side error HTTPSConnectionPool(host='dc.services.visualstudio.com', port=443): Max retries exceeded with url: /v2.1/track (Caused by SSLError(SSLEOFError(8, 'EOF occurred in violation of protocol (_ssl.c:1129)'))).\n",
      "Retrying due to transient client side error HTTPSConnectionPool(host='dc.services.visualstudio.com', port=443): Max retries exceeded with url: /v2.1/track (Caused by SSLError(SSLEOFError(8, 'EOF occurred in violation of protocol (_ssl.c:1129)'))).\n",
      "Retrying due to transient client side error HTTPSConnectionPool(host='dc.services.visualstudio.com', port=443): Max retries exceeded with url: /v2.1/track (Caused by SSLError(SSLEOFError(8, 'EOF occurred in violation of protocol (_ssl.c:1129)'))).\n",
      "Retrying due to transient client side error HTTPSConnectionPool(host='dc.services.visualstudio.com', port=443): Max retries exceeded with url: /v2.1/track (Caused by SSLError(SSLEOFError(8, 'EOF occurred in violation of protocol (_ssl.c:1129)'))).\n",
      "Retrying due to transient client side error HTTPSConnectionPool(host='dc.services.visualstudio.com', port=443): Max retries exceeded with url: /v2.1/track (Caused by SSLError(SSLEOFError(8, 'EOF occurred in violation of protocol (_ssl.c:1129)'))).\n",
      "Retrying due to transient client side error HTTPSConnectionPool(host='dc.services.visualstudio.com', port=443): Max retries exceeded with url: /v2.1/track (Caused by SSLError(SSLEOFError(8, 'EOF occurred in violation of protocol (_ssl.c:1129)'))).\n",
      "Retrying due to transient client side error HTTPSConnectionPool(host='dc.services.visualstudio.com', port=443): Max retries exceeded with url: /v2.1/track (Caused by SSLError(SSLEOFError(8, 'EOF occurred in violation of protocol (_ssl.c:1129)'))).\n"
     ]
    }
   ],
   "source": [
    "with open(\"config.json\", \"r\") as f:\n",
    "    config = json.load(f)"
   ]
  },
  {
   "cell_type": "code",
   "execution_count": 7,
   "id": "eb7accff",
   "metadata": {},
   "outputs": [],
   "source": [
    "subscription_id = config[\"subscription_id\"]\n",
    "resource_group = config[\"resource_group\"]\n",
    "workspace_name = config[\"workspace_name\"]"
   ]
  },
  {
   "cell_type": "code",
   "execution_count": 8,
   "id": "cb3d8e5d",
   "metadata": {},
   "outputs": [
    {
     "data": {
      "text/plain": [
       "Workspace.create(name='mlprojectexperiments', subscription_id='a9be2bae-a7e2-4890-9232-48dc82eb3c71', resource_group='mlproject')"
      ]
     },
     "execution_count": 8,
     "metadata": {},
     "output_type": "execute_result"
    }
   ],
   "source": [
    "Workspace.from_config()"
   ]
  },
  {
   "cell_type": "code",
   "execution_count": 9,
   "id": "8491419e",
   "metadata": {},
   "outputs": [],
   "source": [
    "credential = DefaultAzureCredential()\n",
    "ml_client = MLClient(credential, subscription_id, resource_group, workspace_name)"
   ]
  },
  {
   "cell_type": "code",
   "execution_count": null,
   "id": "5c61f044",
   "metadata": {},
   "outputs": [
    {
     "data": {
      "text/plain": [
       "ComputeInstance({'state': 'Running', 'last_operation': {'operation_name': 'Create', 'operation_time': '2025-01-20T09:22:34.914Z', 'operation_status': 'Succeeded', 'operation_trigger': 'User'}, 'os_image_metadata': <azure.ai.ml.entities._compute._image_metadata.ImageMetadata object at 0x7fd2e413bee0>, 'services': [{'display_name': 'Jupyter', 'endpoint_uri': 'https://basic-ci202501201452.southindia.instances.azureml.ms/tree/'}, {'display_name': 'Jupyter Lab', 'endpoint_uri': 'https://basic-ci202501201452.southindia.instances.azureml.ms/lab'}], 'type': 'computeinstance', 'created_on': '2025-01-20T09:22:27.025506+0000', 'provisioning_state': 'Succeeded', 'provisioning_errors': None, 'name': 'basic-ci202501201452', 'description': None, 'tags': None, 'properties': {}, 'print_as_yaml': False, 'id': '/subscriptions/a9be2bae-a7e2-4890-9232-48dc82eb3c71/resourceGroups/mlproject/providers/Microsoft.MachineLearningServices/workspaces/mlprojectexperiments/computes/basic-ci202501201452', 'Resource__source_path': '', 'base_path': '/Users/sunilsharma/Desktop/nse_pipeline', 'creation_context': None, 'serialize': <msrest.serialization.Serializer object at 0x7fd2e413b700>, 'resource_id': None, 'location': 'southindia', 'size': 'Standard_D2_v2', 'ssh_public_access_enabled': False, 'create_on_behalf_of': None, 'network_settings': <azure.ai.ml.entities._compute.compute.NetworkSettings object at 0x7fd2e413bfd0>, 'ssh_settings': <azure.ai.ml.entities._compute.compute_instance.ComputeInstanceSshSettings object at 0x7fd2e413b970>, 'schedules': None, 'identity': None, 'idle_time_before_shutdown': None, 'idle_time_before_shutdown_minutes': None, 'setup_scripts': None, 'enable_node_public_ip': True, 'enable_sso': True, 'enable_root_access': True, 'release_quota_on_stop': False, 'enable_os_patching': False, 'custom_applications': None, 'subnet': None})"
      ]
     },
     "execution_count": 8,
     "metadata": {},
     "output_type": "execute_result"
    }
   ],
   "source": [
    "#from azure.ai.ml.entities import ComputeInstance, AmlCompute\n",
    "#import datetime\n",
    "\n",
    "#ci_basic_name = \"basic-ci\" + datetime.datetime.now().strftime(\"%Y%m%d%H%M\")\n",
    "#ci_basic = ComputeInstance(name=ci_basic_name, size=\"Standard_D2_v2\")\n",
    "#ml_client.begin_create_or_update(ci_basic).result()"
   ]
  },
  {
   "cell_type": "code",
   "execution_count": 12,
   "id": "0eb7865f",
   "metadata": {},
   "outputs": [
    {
     "name": "stderr",
     "output_type": "stream",
     "text": [
      "Retrying due to transient client side error HTTPSConnectionPool(host='dc.services.visualstudio.com', port=443): Max retries exceeded with url: /v2.1/track (Caused by SSLError(SSLEOFError(8, 'EOF occurred in violation of protocol (_ssl.c:1129)'))).\n",
      "Retrying due to transient client side error HTTPSConnectionPool(host='dc.services.visualstudio.com', port=443): Max retries exceeded with url: /v2.1/track (Caused by SSLError(SSLEOFError(8, 'EOF occurred in violation of protocol (_ssl.c:1129)'))).\n",
      "Retrying due to transient client side error HTTPSConnectionPool(host='dc.services.visualstudio.com', port=443): Max retries exceeded with url: /v2.1/track (Caused by SSLError(SSLEOFError(8, 'EOF occurred in violation of protocol (_ssl.c:1129)'))).\n",
      "Retrying due to transient client side error HTTPSConnectionPool(host='dc.services.visualstudio.com', port=443): Max retries exceeded with url: /v2.1/track (Caused by SSLError(SSLEOFError(8, 'EOF occurred in violation of protocol (_ssl.c:1129)'))).\n",
      "Retrying due to transient client side error HTTPSConnectionPool(host='dc.services.visualstudio.com', port=443): Max retries exceeded with url: /v2.1/track (Caused by SSLError(SSLEOFError(8, 'EOF occurred in violation of protocol (_ssl.c:1129)'))).\n",
      "Retrying due to transient client side error HTTPSConnectionPool(host='dc.services.visualstudio.com', port=443): Max retries exceeded with url: /v2.1/track (Caused by SSLError(SSLEOFError(8, 'EOF occurred in violation of protocol (_ssl.c:1129)'))).\n",
      "Retrying due to transient client side error HTTPSConnectionPool(host='dc.services.visualstudio.com', port=443): Max retries exceeded with url: /v2.1/track (Caused by SSLError(SSLEOFError(8, 'EOF occurred in violation of protocol (_ssl.c:1129)'))).\n",
      "Retrying due to transient client side error HTTPSConnectionPool(host='dc.services.visualstudio.com', port=443): Max retries exceeded with url: /v2.1/track (Caused by SSLError(SSLEOFError(8, 'EOF occurred in violation of protocol (_ssl.c:1129)'))).\n",
      "Retrying due to transient client side error HTTPSConnectionPool(host='dc.services.visualstudio.com', port=443): Max retries exceeded with url: /v2.1/track (Caused by SSLError(SSLEOFError(8, 'EOF occurred in violation of protocol (_ssl.c:1129)'))).\n",
      "Retrying due to transient client side error HTTPSConnectionPool(host='dc.services.visualstudio.com', port=443): Max retries exceeded with url: /v2.1/track (Caused by SSLError(SSLEOFError(8, 'EOF occurred in violation of protocol (_ssl.c:1129)'))).\n",
      "Retrying due to transient client side error HTTPSConnectionPool(host='dc.services.visualstudio.com', port=443): Max retries exceeded with url: /v2.1/track (Caused by SSLError(SSLEOFError(8, 'EOF occurred in violation of protocol (_ssl.c:1129)'))).\n",
      "Retrying due to transient client side error HTTPSConnectionPool(host='dc.services.visualstudio.com', port=443): Max retries exceeded with url: /v2.1/track (Caused by SSLError(SSLEOFError(8, 'EOF occurred in violation of protocol (_ssl.c:1129)'))).\n",
      "Retrying due to transient client side error HTTPSConnectionPool(host='dc.services.visualstudio.com', port=443): Max retries exceeded with url: /v2.1/track (Caused by SSLError(SSLEOFError(8, 'EOF occurred in violation of protocol (_ssl.c:1129)'))).\n",
      "Retrying due to transient client side error HTTPSConnectionPool(host='dc.services.visualstudio.com', port=443): Max retries exceeded with url: /v2.1/track (Caused by SSLError(SSLEOFError(8, 'EOF occurred in violation of protocol (_ssl.c:1129)'))).\n",
      "Retrying due to transient client side error HTTPSConnectionPool(host='dc.services.visualstudio.com', port=443): Max retries exceeded with url: /v2.1/track (Caused by SSLError(SSLEOFError(8, 'EOF occurred in violation of protocol (_ssl.c:1129)'))).\n",
      "Retrying due to transient client side error HTTPSConnectionPool(host='dc.services.visualstudio.com', port=443): Max retries exceeded with url: /v2.1/track (Caused by SSLError(SSLEOFError(8, 'EOF occurred in violation of protocol (_ssl.c:1129)'))).\n",
      "Retrying due to transient client side error HTTPSConnectionPool(host='dc.services.visualstudio.com', port=443): Max retries exceeded with url: /v2.1/track (Caused by SSLError(SSLEOFError(8, 'EOF occurred in violation of protocol (_ssl.c:1129)'))).\n",
      "Retrying due to transient client side error HTTPSConnectionPool(host='dc.services.visualstudio.com', port=443): Max retries exceeded with url: /v2.1/track (Caused by SSLError(SSLEOFError(8, 'EOF occurred in violation of protocol (_ssl.c:1129)'))).\n",
      "Retrying due to transient client side error HTTPSConnectionPool(host='dc.services.visualstudio.com', port=443): Max retries exceeded with url: /v2.1/track (Caused by SSLError(SSLEOFError(8, 'EOF occurred in violation of protocol (_ssl.c:1129)'))).\n",
      "Retrying due to transient client side error HTTPSConnectionPool(host='dc.services.visualstudio.com', port=443): Max retries exceeded with url: /v2.1/track (Caused by SSLError(SSLEOFError(8, 'EOF occurred in violation of protocol (_ssl.c:1129)'))).\n",
      "Retrying due to transient client side error HTTPSConnectionPool(host='dc.services.visualstudio.com', port=443): Max retries exceeded with url: /v2.1/track (Caused by SSLError(SSLEOFError(8, 'EOF occurred in violation of protocol (_ssl.c:1129)'))).\n",
      "Retrying due to transient client side error HTTPSConnectionPool(host='dc.services.visualstudio.com', port=443): Max retries exceeded with url: /v2.1/track (Caused by SSLError(SSLEOFError(8, 'EOF occurred in violation of protocol (_ssl.c:1129)'))).\n",
      "Retrying due to transient client side error HTTPSConnectionPool(host='dc.services.visualstudio.com', port=443): Max retries exceeded with url: /v2.1/track (Caused by SSLError(SSLEOFError(8, 'EOF occurred in violation of protocol (_ssl.c:1129)'))).\n",
      "Retrying due to transient client side error HTTPSConnectionPool(host='dc.services.visualstudio.com', port=443): Max retries exceeded with url: /v2.1/track (Caused by SSLError(SSLEOFError(8, 'EOF occurred in violation of protocol (_ssl.c:1129)'))).\n",
      "Retrying due to transient client side error HTTPSConnectionPool(host='dc.services.visualstudio.com', port=443): Max retries exceeded with url: /v2.1/track (Caused by SSLError(SSLEOFError(8, 'EOF occurred in violation of protocol (_ssl.c:1129)'))).\n",
      "Retrying due to transient client side error HTTPSConnectionPool(host='dc.services.visualstudio.com', port=443): Max retries exceeded with url: /v2.1/track (Caused by SSLError(SSLEOFError(8, 'EOF occurred in violation of protocol (_ssl.c:1129)'))).\n",
      "Retrying due to transient client side error HTTPSConnectionPool(host='dc.services.visualstudio.com', port=443): Max retries exceeded with url: /v2.1/track (Caused by SSLError(SSLEOFError(8, 'EOF occurred in violation of protocol (_ssl.c:1129)'))).\n",
      "Retrying due to transient client side error HTTPSConnectionPool(host='dc.services.visualstudio.com', port=443): Max retries exceeded with url: /v2.1/track (Caused by SSLError(SSLEOFError(8, 'EOF occurred in violation of protocol (_ssl.c:1129)'))).\n",
      "Retrying due to transient client side error HTTPSConnectionPool(host='dc.services.visualstudio.com', port=443): Max retries exceeded with url: /v2.1/track (Caused by SSLError(SSLEOFError(8, 'EOF occurred in violation of protocol (_ssl.c:1129)'))).\n",
      "Retrying due to transient client side error HTTPSConnectionPool(host='dc.services.visualstudio.com', port=443): Max retries exceeded with url: /v2.1/track (Caused by SSLError(SSLEOFError(8, 'EOF occurred in violation of protocol (_ssl.c:1129)'))).\n",
      "Retrying due to transient client side error HTTPSConnectionPool(host='dc.services.visualstudio.com', port=443): Max retries exceeded with url: /v2.1/track (Caused by SSLError(SSLEOFError(8, 'EOF occurred in violation of protocol (_ssl.c:1129)'))).\n",
      "Retrying due to transient client side error HTTPSConnectionPool(host='dc.services.visualstudio.com', port=443): Max retries exceeded with url: /v2.1/track (Caused by SSLError(SSLEOFError(8, 'EOF occurred in violation of protocol (_ssl.c:1129)'))).\n",
      "Retrying due to transient client side error HTTPSConnectionPool(host='dc.services.visualstudio.com', port=443): Max retries exceeded with url: /v2.1/track (Caused by SSLError(SSLEOFError(8, 'EOF occurred in violation of protocol (_ssl.c:1129)'))).\n",
      "Retrying due to transient client side error HTTPSConnectionPool(host='dc.services.visualstudio.com', port=443): Max retries exceeded with url: /v2.1/track (Caused by SSLError(SSLEOFError(8, 'EOF occurred in violation of protocol (_ssl.c:1129)'))).\n"
     ]
    },
    {
     "name": "stderr",
     "output_type": "stream",
     "text": [
      "Retrying due to transient client side error HTTPSConnectionPool(host='dc.services.visualstudio.com', port=443): Max retries exceeded with url: /v2.1/track (Caused by SSLError(SSLEOFError(8, 'EOF occurred in violation of protocol (_ssl.c:1129)'))).\n",
      "Retrying due to transient client side error HTTPSConnectionPool(host='dc.services.visualstudio.com', port=443): Max retries exceeded with url: /v2.1/track (Caused by SSLError(SSLEOFError(8, 'EOF occurred in violation of protocol (_ssl.c:1129)'))).\n",
      "Retrying due to transient client side error HTTPSConnectionPool(host='dc.services.visualstudio.com', port=443): Max retries exceeded with url: /v2.1/track (Caused by SSLError(SSLEOFError(8, 'EOF occurred in violation of protocol (_ssl.c:1129)'))).\n",
      "Retrying due to transient client side error HTTPSConnectionPool(host='dc.services.visualstudio.com', port=443): Max retries exceeded with url: /v2.1/track (Caused by SSLError(SSLEOFError(8, 'EOF occurred in violation of protocol (_ssl.c:1129)'))).\n",
      "Retrying due to transient client side error HTTPSConnectionPool(host='dc.services.visualstudio.com', port=443): Max retries exceeded with url: /v2.1/track (Caused by SSLError(SSLEOFError(8, 'EOF occurred in violation of protocol (_ssl.c:1129)'))).\n",
      "Retrying due to transient client side error HTTPSConnectionPool(host='dc.services.visualstudio.com', port=443): Max retries exceeded with url: /v2.1/track (Caused by SSLError(SSLEOFError(8, 'EOF occurred in violation of protocol (_ssl.c:1129)'))).\n",
      "Retrying due to transient client side error HTTPSConnectionPool(host='dc.services.visualstudio.com', port=443): Max retries exceeded with url: /v2.1/track (Caused by SSLError(SSLEOFError(8, 'EOF occurred in violation of protocol (_ssl.c:1129)'))).\n",
      "Retrying due to transient client side error HTTPSConnectionPool(host='dc.services.visualstudio.com', port=443): Max retries exceeded with url: /v2.1/track (Caused by SSLError(SSLEOFError(8, 'EOF occurred in violation of protocol (_ssl.c:1129)'))).\n",
      "Retrying due to transient client side error HTTPSConnectionPool(host='dc.services.visualstudio.com', port=443): Max retries exceeded with url: /v2.1/track (Caused by SSLError(SSLEOFError(8, 'EOF occurred in violation of protocol (_ssl.c:1129)'))).\n",
      "Retrying due to transient client side error HTTPSConnectionPool(host='dc.services.visualstudio.com', port=443): Max retries exceeded with url: /v2.1/track (Caused by SSLError(SSLEOFError(8, 'EOF occurred in violation of protocol (_ssl.c:1129)'))).\n",
      "Retrying due to transient client side error HTTPSConnectionPool(host='dc.services.visualstudio.com', port=443): Max retries exceeded with url: /v2.1/track (Caused by SSLError(SSLEOFError(8, 'EOF occurred in violation of protocol (_ssl.c:1129)'))).\n",
      "Retrying due to transient client side error HTTPSConnectionPool(host='dc.services.visualstudio.com', port=443): Max retries exceeded with url: /v2.1/track (Caused by SSLError(SSLEOFError(8, 'EOF occurred in violation of protocol (_ssl.c:1129)'))).\n",
      "Retrying due to transient client side error HTTPSConnectionPool(host='dc.services.visualstudio.com', port=443): Max retries exceeded with url: /v2.1/track (Caused by SSLError(SSLEOFError(8, 'EOF occurred in violation of protocol (_ssl.c:1129)'))).\n",
      "Retrying due to transient client side error HTTPSConnectionPool(host='dc.services.visualstudio.com', port=443): Max retries exceeded with url: /v2.1/track (Caused by SSLError(SSLEOFError(8, 'EOF occurred in violation of protocol (_ssl.c:1129)'))).\n",
      "Retrying due to transient client side error HTTPSConnectionPool(host='dc.services.visualstudio.com', port=443): Max retries exceeded with url: /v2.1/track (Caused by SSLError(SSLEOFError(8, 'EOF occurred in violation of protocol (_ssl.c:1129)'))).\n",
      "Retrying due to transient client side error HTTPSConnectionPool(host='dc.services.visualstudio.com', port=443): Max retries exceeded with url: /v2.1/track (Caused by SSLError(SSLEOFError(8, 'EOF occurred in violation of protocol (_ssl.c:1129)'))).\n",
      "Retrying due to transient client side error HTTPSConnectionPool(host='dc.services.visualstudio.com', port=443): Max retries exceeded with url: /v2.1/track (Caused by SSLError(SSLEOFError(8, 'EOF occurred in violation of protocol (_ssl.c:1129)'))).\n",
      "Retrying due to transient client side error HTTPSConnectionPool(host='dc.services.visualstudio.com', port=443): Max retries exceeded with url: /v2.1/track (Caused by SSLError(SSLEOFError(8, 'EOF occurred in violation of protocol (_ssl.c:1129)'))).\n",
      "Retrying due to transient client side error HTTPSConnectionPool(host='dc.services.visualstudio.com', port=443): Max retries exceeded with url: /v2.1/track (Caused by SSLError(SSLEOFError(8, 'EOF occurred in violation of protocol (_ssl.c:1129)'))).\n",
      "Retrying due to transient client side error HTTPSConnectionPool(host='dc.services.visualstudio.com', port=443): Max retries exceeded with url: /v2.1/track (Caused by SSLError(SSLEOFError(8, 'EOF occurred in violation of protocol (_ssl.c:1129)'))).\n",
      "Retrying due to transient client side error HTTPSConnectionPool(host='dc.services.visualstudio.com', port=443): Max retries exceeded with url: /v2.1/track (Caused by SSLError(SSLEOFError(8, 'EOF occurred in violation of protocol (_ssl.c:1129)'))).\n",
      "Retrying due to transient client side error HTTPSConnectionPool(host='dc.services.visualstudio.com', port=443): Max retries exceeded with url: /v2.1/track (Caused by SSLError(SSLEOFError(8, 'EOF occurred in violation of protocol (_ssl.c:1129)'))).\n",
      "Retrying due to transient client side error HTTPSConnectionPool(host='dc.services.visualstudio.com', port=443): Max retries exceeded with url: /v2.1/track (Caused by SSLError(SSLEOFError(8, 'EOF occurred in violation of protocol (_ssl.c:1129)'))).\n",
      "Retrying due to transient client side error HTTPSConnectionPool(host='dc.services.visualstudio.com', port=443): Max retries exceeded with url: /v2.1/track (Caused by SSLError(SSLEOFError(8, 'EOF occurred in violation of protocol (_ssl.c:1129)'))).\n",
      "Retrying due to transient client side error HTTPSConnectionPool(host='dc.services.visualstudio.com', port=443): Max retries exceeded with url: /v2.1/track (Caused by SSLError(SSLEOFError(8, 'EOF occurred in violation of protocol (_ssl.c:1129)'))).\n",
      "Retrying due to transient client side error HTTPSConnectionPool(host='dc.services.visualstudio.com', port=443): Max retries exceeded with url: /v2.1/track (Caused by SSLError(SSLEOFError(8, 'EOF occurred in violation of protocol (_ssl.c:1129)'))).\n",
      "Retrying due to transient client side error HTTPSConnectionPool(host='dc.services.visualstudio.com', port=443): Max retries exceeded with url: /v2.1/track (Caused by SSLError(SSLEOFError(8, 'EOF occurred in violation of protocol (_ssl.c:1129)'))).\n",
      "Retrying due to transient client side error HTTPSConnectionPool(host='dc.services.visualstudio.com', port=443): Max retries exceeded with url: /v2.1/track (Caused by SSLError(SSLEOFError(8, 'EOF occurred in violation of protocol (_ssl.c:1129)'))).\n",
      "Retrying due to transient client side error HTTPSConnectionPool(host='dc.services.visualstudio.com', port=443): Max retries exceeded with url: /v2.1/track (Caused by SSLError(SSLEOFError(8, 'EOF occurred in violation of protocol (_ssl.c:1129)'))).\n",
      "Retrying due to transient client side error HTTPSConnectionPool(host='dc.services.visualstudio.com', port=443): Max retries exceeded with url: /v2.1/track (Caused by SSLError(SSLEOFError(8, 'EOF occurred in violation of protocol (_ssl.c:1129)'))).\n",
      "Retrying due to transient client side error HTTPSConnectionPool(host='dc.services.visualstudio.com', port=443): Max retries exceeded with url: /v2.1/track (Caused by SSLError(SSLEOFError(8, 'EOF occurred in violation of protocol (_ssl.c:1129)'))).\n",
      "Retrying due to transient client side error HTTPSConnectionPool(host='dc.services.visualstudio.com', port=443): Max retries exceeded with url: /v2.1/track (Caused by SSLError(SSLEOFError(8, 'EOF occurred in violation of protocol (_ssl.c:1129)'))).\n",
      "Retrying due to transient client side error HTTPSConnectionPool(host='dc.services.visualstudio.com', port=443): Max retries exceeded with url: /v2.1/track (Caused by SSLError(SSLEOFError(8, 'EOF occurred in violation of protocol (_ssl.c:1129)'))).\n",
      "Retrying due to transient client side error HTTPSConnectionPool(host='dc.services.visualstudio.com', port=443): Max retries exceeded with url: /v2.1/track (Caused by SSLError(SSLEOFError(8, 'EOF occurred in violation of protocol (_ssl.c:1129)'))).\n"
     ]
    },
    {
     "name": "stderr",
     "output_type": "stream",
     "text": [
      "Retrying due to transient client side error HTTPSConnectionPool(host='dc.services.visualstudio.com', port=443): Max retries exceeded with url: /v2.1/track (Caused by SSLError(SSLEOFError(8, 'EOF occurred in violation of protocol (_ssl.c:1129)'))).\n",
      "Retrying due to transient client side error HTTPSConnectionPool(host='dc.services.visualstudio.com', port=443): Max retries exceeded with url: /v2.1/track (Caused by SSLError(SSLEOFError(8, 'EOF occurred in violation of protocol (_ssl.c:1129)'))).\n",
      "Retrying due to transient client side error HTTPSConnectionPool(host='dc.services.visualstudio.com', port=443): Max retries exceeded with url: /v2.1/track (Caused by SSLError(SSLEOFError(8, 'EOF occurred in violation of protocol (_ssl.c:1129)'))).\n",
      "Retrying due to transient client side error HTTPSConnectionPool(host='dc.services.visualstudio.com', port=443): Max retries exceeded with url: /v2.1/track (Caused by SSLError(SSLEOFError(8, 'EOF occurred in violation of protocol (_ssl.c:1129)'))).\n",
      "Retrying due to transient client side error HTTPSConnectionPool(host='dc.services.visualstudio.com', port=443): Max retries exceeded with url: /v2.1/track (Caused by SSLError(SSLEOFError(8, 'EOF occurred in violation of protocol (_ssl.c:1129)'))).\n",
      "Retrying due to transient client side error HTTPSConnectionPool(host='dc.services.visualstudio.com', port=443): Max retries exceeded with url: /v2.1/track (Caused by SSLError(SSLEOFError(8, 'EOF occurred in violation of protocol (_ssl.c:1129)'))).\n",
      "Retrying due to transient client side error HTTPSConnectionPool(host='dc.services.visualstudio.com', port=443): Max retries exceeded with url: /v2.1/track (Caused by SSLError(SSLEOFError(8, 'EOF occurred in violation of protocol (_ssl.c:1129)'))).\n",
      "Retrying due to transient client side error HTTPSConnectionPool(host='dc.services.visualstudio.com', port=443): Max retries exceeded with url: /v2.1/track (Caused by SSLError(SSLEOFError(8, 'EOF occurred in violation of protocol (_ssl.c:1129)'))).\n",
      "Retrying due to transient client side error HTTPSConnectionPool(host='dc.services.visualstudio.com', port=443): Max retries exceeded with url: /v2.1/track (Caused by SSLError(SSLEOFError(8, 'EOF occurred in violation of protocol (_ssl.c:1129)'))).\n",
      "Retrying due to transient client side error HTTPSConnectionPool(host='dc.services.visualstudio.com', port=443): Max retries exceeded with url: /v2.1/track (Caused by SSLError(SSLEOFError(8, 'EOF occurred in violation of protocol (_ssl.c:1129)'))).\n",
      "Retrying due to transient client side error HTTPSConnectionPool(host='dc.services.visualstudio.com', port=443): Max retries exceeded with url: /v2.1/track (Caused by SSLError(SSLEOFError(8, 'EOF occurred in violation of protocol (_ssl.c:1129)'))).\n",
      "Retrying due to transient client side error HTTPSConnectionPool(host='dc.services.visualstudio.com', port=443): Max retries exceeded with url: /v2.1/track (Caused by SSLError(SSLEOFError(8, 'EOF occurred in violation of protocol (_ssl.c:1129)'))).\n",
      "Retrying due to transient client side error HTTPSConnectionPool(host='dc.services.visualstudio.com', port=443): Max retries exceeded with url: /v2.1/track (Caused by SSLError(SSLEOFError(8, 'EOF occurred in violation of protocol (_ssl.c:1129)'))).\n",
      "Retrying due to transient client side error HTTPSConnectionPool(host='dc.services.visualstudio.com', port=443): Max retries exceeded with url: /v2.1/track (Caused by SSLError(SSLEOFError(8, 'EOF occurred in violation of protocol (_ssl.c:1129)'))).\n",
      "Retrying due to transient client side error HTTPSConnectionPool(host='dc.services.visualstudio.com', port=443): Max retries exceeded with url: /v2.1/track (Caused by SSLError(SSLEOFError(8, 'EOF occurred in violation of protocol (_ssl.c:1129)'))).\n",
      "Retrying due to transient client side error HTTPSConnectionPool(host='dc.services.visualstudio.com', port=443): Max retries exceeded with url: /v2.1/track (Caused by SSLError(SSLEOFError(8, 'EOF occurred in violation of protocol (_ssl.c:1129)'))).\n",
      "Retrying due to transient client side error HTTPSConnectionPool(host='dc.services.visualstudio.com', port=443): Max retries exceeded with url: /v2.1/track (Caused by SSLError(SSLEOFError(8, 'EOF occurred in violation of protocol (_ssl.c:1129)'))).\n",
      "Retrying due to transient client side error HTTPSConnectionPool(host='dc.services.visualstudio.com', port=443): Max retries exceeded with url: /v2.1/track (Caused by SSLError(SSLEOFError(8, 'EOF occurred in violation of protocol (_ssl.c:1129)'))).\n",
      "Retrying due to transient client side error HTTPSConnectionPool(host='dc.services.visualstudio.com', port=443): Max retries exceeded with url: /v2.1/track (Caused by SSLError(SSLEOFError(8, 'EOF occurred in violation of protocol (_ssl.c:1129)'))).\n",
      "Retrying due to transient client side error HTTPSConnectionPool(host='dc.services.visualstudio.com', port=443): Max retries exceeded with url: /v2.1/track (Caused by SSLError(SSLEOFError(8, 'EOF occurred in violation of protocol (_ssl.c:1129)'))).\n",
      "Retrying due to transient client side error HTTPSConnectionPool(host='dc.services.visualstudio.com', port=443): Max retries exceeded with url: /v2.1/track (Caused by SSLError(SSLEOFError(8, 'EOF occurred in violation of protocol (_ssl.c:1129)'))).\n",
      "Retrying due to transient client side error HTTPSConnectionPool(host='dc.services.visualstudio.com', port=443): Max retries exceeded with url: /v2.1/track (Caused by SSLError(SSLEOFError(8, 'EOF occurred in violation of protocol (_ssl.c:1129)'))).\n",
      "Retrying due to transient client side error HTTPSConnectionPool(host='dc.services.visualstudio.com', port=443): Max retries exceeded with url: /v2.1/track (Caused by SSLError(SSLEOFError(8, 'EOF occurred in violation of protocol (_ssl.c:1129)'))).\n",
      "Retrying due to transient client side error HTTPSConnectionPool(host='dc.services.visualstudio.com', port=443): Max retries exceeded with url: /v2.1/track (Caused by SSLError(SSLEOFError(8, 'EOF occurred in violation of protocol (_ssl.c:1129)'))).\n",
      "Retrying due to transient client side error HTTPSConnectionPool(host='dc.services.visualstudio.com', port=443): Max retries exceeded with url: /v2.1/track (Caused by SSLError(SSLEOFError(8, 'EOF occurred in violation of protocol (_ssl.c:1129)'))).\n",
      "Retrying due to transient client side error HTTPSConnectionPool(host='dc.services.visualstudio.com', port=443): Max retries exceeded with url: /v2.1/track (Caused by SSLError(SSLEOFError(8, 'EOF occurred in violation of protocol (_ssl.c:1129)'))).\n",
      "Retrying due to transient client side error HTTPSConnectionPool(host='dc.services.visualstudio.com', port=443): Max retries exceeded with url: /v2.1/track (Caused by SSLError(SSLEOFError(8, 'EOF occurred in violation of protocol (_ssl.c:1129)'))).\n",
      "Retrying due to transient client side error HTTPSConnectionPool(host='dc.services.visualstudio.com', port=443): Max retries exceeded with url: /v2.1/track (Caused by SSLError(SSLEOFError(8, 'EOF occurred in violation of protocol (_ssl.c:1129)'))).\n",
      "Retrying due to transient client side error HTTPSConnectionPool(host='dc.services.visualstudio.com', port=443): Max retries exceeded with url: /v2.1/track (Caused by SSLError(SSLEOFError(8, 'EOF occurred in violation of protocol (_ssl.c:1129)'))).\n",
      "Retrying due to transient client side error HTTPSConnectionPool(host='dc.services.visualstudio.com', port=443): Max retries exceeded with url: /v2.1/track (Caused by SSLError(SSLEOFError(8, 'EOF occurred in violation of protocol (_ssl.c:1129)'))).\n",
      "Retrying due to transient client side error HTTPSConnectionPool(host='dc.services.visualstudio.com', port=443): Max retries exceeded with url: /v2.1/track (Caused by SSLError(SSLEOFError(8, 'EOF occurred in violation of protocol (_ssl.c:1129)'))).\n",
      "Retrying due to transient client side error HTTPSConnectionPool(host='dc.services.visualstudio.com', port=443): Max retries exceeded with url: /v2.1/track (Caused by SSLError(SSLEOFError(8, 'EOF occurred in violation of protocol (_ssl.c:1129)'))).\n",
      "Retrying due to transient client side error HTTPSConnectionPool(host='dc.services.visualstudio.com', port=443): Max retries exceeded with url: /v2.1/track (Caused by SSLError(SSLEOFError(8, 'EOF occurred in violation of protocol (_ssl.c:1129)'))).\n",
      "Retrying due to transient client side error HTTPSConnectionPool(host='dc.services.visualstudio.com', port=443): Max retries exceeded with url: /v2.1/track (Caused by SSLError(SSLEOFError(8, 'EOF occurred in violation of protocol (_ssl.c:1129)'))).\n"
     ]
    },
    {
     "name": "stderr",
     "output_type": "stream",
     "text": [
      "Retrying due to transient client side error HTTPSConnectionPool(host='dc.services.visualstudio.com', port=443): Max retries exceeded with url: /v2.1/track (Caused by SSLError(SSLEOFError(8, 'EOF occurred in violation of protocol (_ssl.c:1129)'))).\n",
      "Retrying due to transient client side error HTTPSConnectionPool(host='dc.services.visualstudio.com', port=443): Max retries exceeded with url: /v2.1/track (Caused by SSLError(SSLEOFError(8, 'EOF occurred in violation of protocol (_ssl.c:1129)'))).\n",
      "Retrying due to transient client side error HTTPSConnectionPool(host='dc.services.visualstudio.com', port=443): Max retries exceeded with url: /v2.1/track (Caused by SSLError(SSLEOFError(8, 'EOF occurred in violation of protocol (_ssl.c:1129)'))).\n",
      "Retrying due to transient client side error HTTPSConnectionPool(host='dc.services.visualstudio.com', port=443): Max retries exceeded with url: /v2.1/track (Caused by SSLError(SSLEOFError(8, 'EOF occurred in violation of protocol (_ssl.c:1129)'))).\n",
      "Retrying due to transient client side error HTTPSConnectionPool(host='dc.services.visualstudio.com', port=443): Max retries exceeded with url: /v2.1/track (Caused by SSLError(SSLEOFError(8, 'EOF occurred in violation of protocol (_ssl.c:1129)'))).\n",
      "Retrying due to transient client side error HTTPSConnectionPool(host='dc.services.visualstudio.com', port=443): Max retries exceeded with url: /v2.1/track (Caused by SSLError(SSLEOFError(8, 'EOF occurred in violation of protocol (_ssl.c:1129)'))).\n",
      "Retrying due to transient client side error HTTPSConnectionPool(host='dc.services.visualstudio.com', port=443): Max retries exceeded with url: /v2.1/track (Caused by SSLError(SSLEOFError(8, 'EOF occurred in violation of protocol (_ssl.c:1129)'))).\n",
      "Retrying due to transient client side error HTTPSConnectionPool(host='dc.services.visualstudio.com', port=443): Max retries exceeded with url: /v2.1/track (Caused by SSLError(SSLEOFError(8, 'EOF occurred in violation of protocol (_ssl.c:1129)'))).\n",
      "Retrying due to transient client side error HTTPSConnectionPool(host='dc.services.visualstudio.com', port=443): Max retries exceeded with url: /v2.1/track (Caused by SSLError(SSLEOFError(8, 'EOF occurred in violation of protocol (_ssl.c:1129)'))).\n",
      "Retrying due to transient client side error HTTPSConnectionPool(host='dc.services.visualstudio.com', port=443): Max retries exceeded with url: /v2.1/track (Caused by SSLError(SSLEOFError(8, 'EOF occurred in violation of protocol (_ssl.c:1129)'))).\n",
      "Retrying due to transient client side error HTTPSConnectionPool(host='dc.services.visualstudio.com', port=443): Max retries exceeded with url: /v2.1/track (Caused by SSLError(SSLEOFError(8, 'EOF occurred in violation of protocol (_ssl.c:1129)'))).\n",
      "Retrying due to transient client side error HTTPSConnectionPool(host='dc.services.visualstudio.com', port=443): Max retries exceeded with url: /v2.1/track (Caused by SSLError(SSLEOFError(8, 'EOF occurred in violation of protocol (_ssl.c:1129)'))).\n",
      "Retrying due to transient client side error HTTPSConnectionPool(host='dc.services.visualstudio.com', port=443): Max retries exceeded with url: /v2.1/track (Caused by SSLError(SSLEOFError(8, 'EOF occurred in violation of protocol (_ssl.c:1129)'))).\n",
      "Retrying due to transient client side error HTTPSConnectionPool(host='dc.services.visualstudio.com', port=443): Max retries exceeded with url: /v2.1/track (Caused by SSLError(SSLEOFError(8, 'EOF occurred in violation of protocol (_ssl.c:1129)'))).\n",
      "Retrying due to transient client side error HTTPSConnectionPool(host='dc.services.visualstudio.com', port=443): Max retries exceeded with url: /v2.1/track (Caused by SSLError(SSLEOFError(8, 'EOF occurred in violation of protocol (_ssl.c:1129)'))).\n",
      "Retrying due to transient client side error HTTPSConnectionPool(host='dc.services.visualstudio.com', port=443): Max retries exceeded with url: /v2.1/track (Caused by SSLError(SSLEOFError(8, 'EOF occurred in violation of protocol (_ssl.c:1129)'))).\n",
      "Retrying due to transient client side error HTTPSConnectionPool(host='dc.services.visualstudio.com', port=443): Max retries exceeded with url: /v2.1/track (Caused by SSLError(SSLEOFError(8, 'EOF occurred in violation of protocol (_ssl.c:1129)'))).\n",
      "Retrying due to transient client side error HTTPSConnectionPool(host='dc.services.visualstudio.com', port=443): Max retries exceeded with url: /v2.1/track (Caused by SSLError(SSLEOFError(8, 'EOF occurred in violation of protocol (_ssl.c:1129)'))).\n",
      "Retrying due to transient client side error HTTPSConnectionPool(host='dc.services.visualstudio.com', port=443): Max retries exceeded with url: /v2.1/track (Caused by SSLError(SSLEOFError(8, 'EOF occurred in violation of protocol (_ssl.c:1129)'))).\n",
      "Retrying due to transient client side error HTTPSConnectionPool(host='dc.services.visualstudio.com', port=443): Max retries exceeded with url: /v2.1/track (Caused by SSLError(SSLEOFError(8, 'EOF occurred in violation of protocol (_ssl.c:1129)'))).\n",
      "Retrying due to transient client side error HTTPSConnectionPool(host='dc.services.visualstudio.com', port=443): Max retries exceeded with url: /v2.1/track (Caused by SSLError(SSLEOFError(8, 'EOF occurred in violation of protocol (_ssl.c:1129)'))).\n",
      "Retrying due to transient client side error HTTPSConnectionPool(host='dc.services.visualstudio.com', port=443): Max retries exceeded with url: /v2.1/track (Caused by SSLError(SSLEOFError(8, 'EOF occurred in violation of protocol (_ssl.c:1129)'))).\n",
      "Retrying due to transient client side error HTTPSConnectionPool(host='dc.services.visualstudio.com', port=443): Max retries exceeded with url: /v2.1/track (Caused by SSLError(SSLEOFError(8, 'EOF occurred in violation of protocol (_ssl.c:1129)'))).\n",
      "Retrying due to transient client side error HTTPSConnectionPool(host='dc.services.visualstudio.com', port=443): Max retries exceeded with url: /v2.1/track (Caused by SSLError(SSLEOFError(8, 'EOF occurred in violation of protocol (_ssl.c:1129)'))).\n",
      "Retrying due to transient client side error HTTPSConnectionPool(host='dc.services.visualstudio.com', port=443): Max retries exceeded with url: /v2.1/track (Caused by SSLError(SSLEOFError(8, 'EOF occurred in violation of protocol (_ssl.c:1129)'))).\n",
      "Retrying due to transient client side error HTTPSConnectionPool(host='dc.services.visualstudio.com', port=443): Max retries exceeded with url: /v2.1/track (Caused by SSLError(SSLEOFError(8, 'EOF occurred in violation of protocol (_ssl.c:1129)'))).\n",
      "Retrying due to transient client side error HTTPSConnectionPool(host='dc.services.visualstudio.com', port=443): Max retries exceeded with url: /v2.1/track (Caused by SSLError(SSLEOFError(8, 'EOF occurred in violation of protocol (_ssl.c:1129)'))).\n",
      "Retrying due to transient client side error HTTPSConnectionPool(host='dc.services.visualstudio.com', port=443): Max retries exceeded with url: /v2.1/track (Caused by SSLError(SSLEOFError(8, 'EOF occurred in violation of protocol (_ssl.c:1129)'))).\n",
      "Retrying due to transient client side error HTTPSConnectionPool(host='dc.services.visualstudio.com', port=443): Max retries exceeded with url: /v2.1/track (Caused by SSLError(SSLEOFError(8, 'EOF occurred in violation of protocol (_ssl.c:1129)'))).\n",
      "Retrying due to transient client side error HTTPSConnectionPool(host='dc.services.visualstudio.com', port=443): Max retries exceeded with url: /v2.1/track (Caused by SSLError(SSLEOFError(8, 'EOF occurred in violation of protocol (_ssl.c:1129)'))).\n",
      "Retrying due to transient client side error HTTPSConnectionPool(host='dc.services.visualstudio.com', port=443): Max retries exceeded with url: /v2.1/track (Caused by SSLError(SSLEOFError(8, 'EOF occurred in violation of protocol (_ssl.c:1129)'))).\n",
      "Retrying due to transient client side error HTTPSConnectionPool(host='dc.services.visualstudio.com', port=443): Max retries exceeded with url: /v2.1/track (Caused by SSLError(SSLEOFError(8, 'EOF occurred in violation of protocol (_ssl.c:1129)'))).\n",
      "Retrying due to transient client side error HTTPSConnectionPool(host='dc.services.visualstudio.com', port=443): Max retries exceeded with url: /v2.1/track (Caused by SSLError(SSLEOFError(8, 'EOF occurred in violation of protocol (_ssl.c:1129)'))).\n",
      "Retrying due to transient client side error HTTPSConnectionPool(host='dc.services.visualstudio.com', port=443): Max retries exceeded with url: /v2.1/track (Caused by SSLError(SSLEOFError(8, 'EOF occurred in violation of protocol (_ssl.c:1129)'))).\n"
     ]
    },
    {
     "name": "stderr",
     "output_type": "stream",
     "text": [
      "Retrying due to transient client side error HTTPSConnectionPool(host='dc.services.visualstudio.com', port=443): Max retries exceeded with url: /v2.1/track (Caused by SSLError(SSLEOFError(8, 'EOF occurred in violation of protocol (_ssl.c:1129)'))).\n",
      "Retrying due to transient client side error HTTPSConnectionPool(host='dc.services.visualstudio.com', port=443): Max retries exceeded with url: /v2.1/track (Caused by SSLError(SSLEOFError(8, 'EOF occurred in violation of protocol (_ssl.c:1129)'))).\n",
      "Retrying due to transient client side error HTTPSConnectionPool(host='dc.services.visualstudio.com', port=443): Max retries exceeded with url: /v2.1/track (Caused by SSLError(SSLEOFError(8, 'EOF occurred in violation of protocol (_ssl.c:1129)'))).\n",
      "Retrying due to transient client side error HTTPSConnectionPool(host='dc.services.visualstudio.com', port=443): Max retries exceeded with url: /v2.1/track (Caused by SSLError(SSLEOFError(8, 'EOF occurred in violation of protocol (_ssl.c:1129)'))).\n",
      "Retrying due to transient client side error HTTPSConnectionPool(host='dc.services.visualstudio.com', port=443): Max retries exceeded with url: /v2.1/track (Caused by SSLError(SSLEOFError(8, 'EOF occurred in violation of protocol (_ssl.c:1129)'))).\n",
      "Retrying due to transient client side error HTTPSConnectionPool(host='dc.services.visualstudio.com', port=443): Max retries exceeded with url: /v2.1/track (Caused by SSLError(SSLEOFError(8, 'EOF occurred in violation of protocol (_ssl.c:1129)'))).\n",
      "Retrying due to transient client side error HTTPSConnectionPool(host='dc.services.visualstudio.com', port=443): Max retries exceeded with url: /v2.1/track (Caused by SSLError(SSLEOFError(8, 'EOF occurred in violation of protocol (_ssl.c:1129)'))).\n",
      "Retrying due to transient client side error HTTPSConnectionPool(host='dc.services.visualstudio.com', port=443): Max retries exceeded with url: /v2.1/track (Caused by SSLError(SSLEOFError(8, 'EOF occurred in violation of protocol (_ssl.c:1129)'))).\n",
      "Retrying due to transient client side error HTTPSConnectionPool(host='dc.services.visualstudio.com', port=443): Max retries exceeded with url: /v2.1/track (Caused by SSLError(SSLEOFError(8, 'EOF occurred in violation of protocol (_ssl.c:1129)'))).\n",
      "Retrying due to transient client side error HTTPSConnectionPool(host='dc.services.visualstudio.com', port=443): Max retries exceeded with url: /v2.1/track (Caused by SSLError(SSLEOFError(8, 'EOF occurred in violation of protocol (_ssl.c:1129)'))).\n",
      "Retrying due to transient client side error HTTPSConnectionPool(host='dc.services.visualstudio.com', port=443): Max retries exceeded with url: /v2.1/track (Caused by SSLError(SSLEOFError(8, 'EOF occurred in violation of protocol (_ssl.c:1129)'))).\n",
      "Retrying due to transient client side error HTTPSConnectionPool(host='dc.services.visualstudio.com', port=443): Max retries exceeded with url: /v2.1/track (Caused by SSLError(SSLEOFError(8, 'EOF occurred in violation of protocol (_ssl.c:1129)'))).\n",
      "Retrying due to transient client side error HTTPSConnectionPool(host='dc.services.visualstudio.com', port=443): Max retries exceeded with url: /v2.1/track (Caused by SSLError(SSLEOFError(8, 'EOF occurred in violation of protocol (_ssl.c:1129)'))).\n",
      "Retrying due to transient client side error HTTPSConnectionPool(host='dc.services.visualstudio.com', port=443): Max retries exceeded with url: /v2.1/track (Caused by SSLError(SSLEOFError(8, 'EOF occurred in violation of protocol (_ssl.c:1129)'))).\n",
      "Retrying due to transient client side error HTTPSConnectionPool(host='dc.services.visualstudio.com', port=443): Max retries exceeded with url: /v2.1/track (Caused by SSLError(SSLEOFError(8, 'EOF occurred in violation of protocol (_ssl.c:1129)'))).\n",
      "Retrying due to transient client side error HTTPSConnectionPool(host='dc.services.visualstudio.com', port=443): Max retries exceeded with url: /v2.1/track (Caused by SSLError(SSLEOFError(8, 'EOF occurred in violation of protocol (_ssl.c:1129)'))).\n",
      "Retrying due to transient client side error HTTPSConnectionPool(host='dc.services.visualstudio.com', port=443): Max retries exceeded with url: /v2.1/track (Caused by SSLError(SSLEOFError(8, 'EOF occurred in violation of protocol (_ssl.c:1129)'))).\n",
      "Retrying due to transient client side error HTTPSConnectionPool(host='dc.services.visualstudio.com', port=443): Max retries exceeded with url: /v2.1/track (Caused by SSLError(SSLEOFError(8, 'EOF occurred in violation of protocol (_ssl.c:1129)'))).\n",
      "Retrying due to transient client side error HTTPSConnectionPool(host='dc.services.visualstudio.com', port=443): Max retries exceeded with url: /v2.1/track (Caused by SSLError(SSLEOFError(8, 'EOF occurred in violation of protocol (_ssl.c:1129)'))).\n",
      "Retrying due to transient client side error HTTPSConnectionPool(host='dc.services.visualstudio.com', port=443): Max retries exceeded with url: /v2.1/track (Caused by SSLError(SSLEOFError(8, 'EOF occurred in violation of protocol (_ssl.c:1129)'))).\n",
      "Retrying due to transient client side error HTTPSConnectionPool(host='dc.services.visualstudio.com', port=443): Max retries exceeded with url: /v2.1/track (Caused by SSLError(SSLEOFError(8, 'EOF occurred in violation of protocol (_ssl.c:1129)'))).\n",
      "Retrying due to transient client side error HTTPSConnectionPool(host='dc.services.visualstudio.com', port=443): Max retries exceeded with url: /v2.1/track (Caused by SSLError(SSLEOFError(8, 'EOF occurred in violation of protocol (_ssl.c:1129)'))).\n",
      "Retrying due to transient client side error HTTPSConnectionPool(host='dc.services.visualstudio.com', port=443): Max retries exceeded with url: /v2.1/track (Caused by SSLError(SSLEOFError(8, 'EOF occurred in violation of protocol (_ssl.c:1129)'))).\n",
      "Retrying due to transient client side error HTTPSConnectionPool(host='dc.services.visualstudio.com', port=443): Max retries exceeded with url: /v2.1/track (Caused by SSLError(SSLEOFError(8, 'EOF occurred in violation of protocol (_ssl.c:1129)'))).\n",
      "Retrying due to transient client side error HTTPSConnectionPool(host='dc.services.visualstudio.com', port=443): Max retries exceeded with url: /v2.1/track (Caused by SSLError(SSLEOFError(8, 'EOF occurred in violation of protocol (_ssl.c:1129)'))).\n",
      "Retrying due to transient client side error HTTPSConnectionPool(host='dc.services.visualstudio.com', port=443): Max retries exceeded with url: /v2.1/track (Caused by SSLError(SSLEOFError(8, 'EOF occurred in violation of protocol (_ssl.c:1129)'))).\n",
      "Retrying due to transient client side error HTTPSConnectionPool(host='dc.services.visualstudio.com', port=443): Max retries exceeded with url: /v2.1/track (Caused by SSLError(SSLEOFError(8, 'EOF occurred in violation of protocol (_ssl.c:1129)'))).\n",
      "Retrying due to transient client side error HTTPSConnectionPool(host='dc.services.visualstudio.com', port=443): Max retries exceeded with url: /v2.1/track (Caused by SSLError(SSLEOFError(8, 'EOF occurred in violation of protocol (_ssl.c:1129)'))).\n",
      "Retrying due to transient client side error HTTPSConnectionPool(host='dc.services.visualstudio.com', port=443): Max retries exceeded with url: /v2.1/track (Caused by SSLError(SSLEOFError(8, 'EOF occurred in violation of protocol (_ssl.c:1129)'))).\n",
      "Retrying due to transient client side error HTTPSConnectionPool(host='dc.services.visualstudio.com', port=443): Max retries exceeded with url: /v2.1/track (Caused by SSLError(SSLEOFError(8, 'EOF occurred in violation of protocol (_ssl.c:1129)'))).\n",
      "Retrying due to transient client side error HTTPSConnectionPool(host='dc.services.visualstudio.com', port=443): Max retries exceeded with url: /v2.1/track (Caused by SSLError(SSLEOFError(8, 'EOF occurred in violation of protocol (_ssl.c:1129)'))).\n",
      "Retrying due to transient client side error HTTPSConnectionPool(host='dc.services.visualstudio.com', port=443): Max retries exceeded with url: /v2.1/track (Caused by SSLError(SSLEOFError(8, 'EOF occurred in violation of protocol (_ssl.c:1129)'))).\n",
      "Retrying due to transient client side error HTTPSConnectionPool(host='dc.services.visualstudio.com', port=443): Max retries exceeded with url: /v2.1/track (Caused by SSLError(SSLEOFError(8, 'EOF occurred in violation of protocol (_ssl.c:1129)'))).\n",
      "Retrying due to transient client side error HTTPSConnectionPool(host='dc.services.visualstudio.com', port=443): Max retries exceeded with url: /v2.1/track (Caused by SSLError(SSLEOFError(8, 'EOF occurred in violation of protocol (_ssl.c:1129)'))).\n"
     ]
    },
    {
     "name": "stderr",
     "output_type": "stream",
     "text": [
      "Retrying due to transient client side error HTTPSConnectionPool(host='dc.services.visualstudio.com', port=443): Max retries exceeded with url: /v2.1/track (Caused by SSLError(SSLEOFError(8, 'EOF occurred in violation of protocol (_ssl.c:1129)'))).\n",
      "Retrying due to transient client side error HTTPSConnectionPool(host='dc.services.visualstudio.com', port=443): Max retries exceeded with url: /v2.1/track (Caused by SSLError(SSLEOFError(8, 'EOF occurred in violation of protocol (_ssl.c:1129)'))).\n",
      "Retrying due to transient client side error HTTPSConnectionPool(host='dc.services.visualstudio.com', port=443): Max retries exceeded with url: /v2.1/track (Caused by SSLError(SSLEOFError(8, 'EOF occurred in violation of protocol (_ssl.c:1129)'))).\n",
      "Retrying due to transient client side error HTTPSConnectionPool(host='dc.services.visualstudio.com', port=443): Max retries exceeded with url: /v2.1/track (Caused by SSLError(SSLEOFError(8, 'EOF occurred in violation of protocol (_ssl.c:1129)'))).\n",
      "Retrying due to transient client side error HTTPSConnectionPool(host='dc.services.visualstudio.com', port=443): Max retries exceeded with url: /v2.1/track (Caused by SSLError(SSLEOFError(8, 'EOF occurred in violation of protocol (_ssl.c:1129)'))).\n",
      "Retrying due to transient client side error HTTPSConnectionPool(host='dc.services.visualstudio.com', port=443): Max retries exceeded with url: /v2.1/track (Caused by SSLError(SSLEOFError(8, 'EOF occurred in violation of protocol (_ssl.c:1129)'))).\n",
      "Retrying due to transient client side error HTTPSConnectionPool(host='dc.services.visualstudio.com', port=443): Max retries exceeded with url: /v2.1/track (Caused by SSLError(SSLEOFError(8, 'EOF occurred in violation of protocol (_ssl.c:1129)'))).\n",
      "Retrying due to transient client side error HTTPSConnectionPool(host='dc.services.visualstudio.com', port=443): Max retries exceeded with url: /v2.1/track (Caused by SSLError(SSLEOFError(8, 'EOF occurred in violation of protocol (_ssl.c:1129)'))).\n",
      "Retrying due to transient client side error HTTPSConnectionPool(host='dc.services.visualstudio.com', port=443): Max retries exceeded with url: /v2.1/track (Caused by SSLError(SSLEOFError(8, 'EOF occurred in violation of protocol (_ssl.c:1129)'))).\n",
      "Retrying due to transient client side error HTTPSConnectionPool(host='dc.services.visualstudio.com', port=443): Max retries exceeded with url: /v2.1/track (Caused by SSLError(SSLEOFError(8, 'EOF occurred in violation of protocol (_ssl.c:1129)'))).\n",
      "Retrying due to transient client side error HTTPSConnectionPool(host='dc.services.visualstudio.com', port=443): Max retries exceeded with url: /v2.1/track (Caused by SSLError(SSLEOFError(8, 'EOF occurred in violation of protocol (_ssl.c:1129)'))).\n",
      "Retrying due to transient client side error HTTPSConnectionPool(host='dc.services.visualstudio.com', port=443): Max retries exceeded with url: /v2.1/track (Caused by SSLError(SSLEOFError(8, 'EOF occurred in violation of protocol (_ssl.c:1129)'))).\n",
      "Retrying due to transient client side error HTTPSConnectionPool(host='dc.services.visualstudio.com', port=443): Max retries exceeded with url: /v2.1/track (Caused by SSLError(SSLEOFError(8, 'EOF occurred in violation of protocol (_ssl.c:1129)'))).\n",
      "Retrying due to transient client side error HTTPSConnectionPool(host='dc.services.visualstudio.com', port=443): Max retries exceeded with url: /v2.1/track (Caused by SSLError(SSLEOFError(8, 'EOF occurred in violation of protocol (_ssl.c:1129)'))).\n",
      "Retrying due to transient client side error HTTPSConnectionPool(host='dc.services.visualstudio.com', port=443): Max retries exceeded with url: /v2.1/track (Caused by SSLError(SSLEOFError(8, 'EOF occurred in violation of protocol (_ssl.c:1129)'))).\n",
      "Retrying due to transient client side error HTTPSConnectionPool(host='dc.services.visualstudio.com', port=443): Max retries exceeded with url: /v2.1/track (Caused by SSLError(SSLEOFError(8, 'EOF occurred in violation of protocol (_ssl.c:1129)'))).\n",
      "Retrying due to transient client side error HTTPSConnectionPool(host='dc.services.visualstudio.com', port=443): Max retries exceeded with url: /v2.1/track (Caused by SSLError(SSLEOFError(8, 'EOF occurred in violation of protocol (_ssl.c:1129)'))).\n",
      "Retrying due to transient client side error HTTPSConnectionPool(host='dc.services.visualstudio.com', port=443): Max retries exceeded with url: /v2.1/track (Caused by SSLError(SSLEOFError(8, 'EOF occurred in violation of protocol (_ssl.c:1129)'))).\n",
      "Retrying due to transient client side error HTTPSConnectionPool(host='dc.services.visualstudio.com', port=443): Max retries exceeded with url: /v2.1/track (Caused by SSLError(SSLEOFError(8, 'EOF occurred in violation of protocol (_ssl.c:1129)'))).\n",
      "Retrying due to transient client side error HTTPSConnectionPool(host='dc.services.visualstudio.com', port=443): Max retries exceeded with url: /v2.1/track (Caused by SSLError(SSLEOFError(8, 'EOF occurred in violation of protocol (_ssl.c:1129)'))).\n",
      "Retrying due to transient client side error HTTPSConnectionPool(host='dc.services.visualstudio.com', port=443): Max retries exceeded with url: /v2.1/track (Caused by SSLError(SSLEOFError(8, 'EOF occurred in violation of protocol (_ssl.c:1129)'))).\n",
      "Retrying due to transient client side error HTTPSConnectionPool(host='dc.services.visualstudio.com', port=443): Max retries exceeded with url: /v2.1/track (Caused by SSLError(SSLEOFError(8, 'EOF occurred in violation of protocol (_ssl.c:1129)'))).\n",
      "Retrying due to transient client side error HTTPSConnectionPool(host='dc.services.visualstudio.com', port=443): Max retries exceeded with url: /v2.1/track (Caused by SSLError(SSLEOFError(8, 'EOF occurred in violation of protocol (_ssl.c:1129)'))).\n",
      "Retrying due to transient client side error HTTPSConnectionPool(host='dc.services.visualstudio.com', port=443): Max retries exceeded with url: /v2.1/track (Caused by SSLError(SSLEOFError(8, 'EOF occurred in violation of protocol (_ssl.c:1129)'))).\n",
      "Retrying due to transient client side error HTTPSConnectionPool(host='dc.services.visualstudio.com', port=443): Max retries exceeded with url: /v2.1/track (Caused by SSLError(SSLEOFError(8, 'EOF occurred in violation of protocol (_ssl.c:1129)'))).\n",
      "Retrying due to transient client side error HTTPSConnectionPool(host='dc.services.visualstudio.com', port=443): Max retries exceeded with url: /v2.1/track (Caused by SSLError(SSLEOFError(8, 'EOF occurred in violation of protocol (_ssl.c:1129)'))).\n",
      "Retrying due to transient client side error HTTPSConnectionPool(host='dc.services.visualstudio.com', port=443): Max retries exceeded with url: /v2.1/track (Caused by SSLError(SSLEOFError(8, 'EOF occurred in violation of protocol (_ssl.c:1129)'))).\n",
      "Retrying due to transient client side error HTTPSConnectionPool(host='dc.services.visualstudio.com', port=443): Max retries exceeded with url: /v2.1/track (Caused by SSLError(SSLEOFError(8, 'EOF occurred in violation of protocol (_ssl.c:1129)'))).\n",
      "Retrying due to transient client side error HTTPSConnectionPool(host='dc.services.visualstudio.com', port=443): Max retries exceeded with url: /v2.1/track (Caused by SSLError(SSLEOFError(8, 'EOF occurred in violation of protocol (_ssl.c:1129)'))).\n",
      "Retrying due to transient client side error HTTPSConnectionPool(host='dc.services.visualstudio.com', port=443): Max retries exceeded with url: /v2.1/track (Caused by SSLError(SSLEOFError(8, 'EOF occurred in violation of protocol (_ssl.c:1129)'))).\n",
      "Retrying due to transient client side error HTTPSConnectionPool(host='dc.services.visualstudio.com', port=443): Max retries exceeded with url: /v2.1/track (Caused by SSLError(SSLEOFError(8, 'EOF occurred in violation of protocol (_ssl.c:1129)'))).\n",
      "Retrying due to transient client side error HTTPSConnectionPool(host='dc.services.visualstudio.com', port=443): Max retries exceeded with url: /v2.1/track (Caused by SSLError(SSLEOFError(8, 'EOF occurred in violation of protocol (_ssl.c:1129)'))).\n",
      "Retrying due to transient client side error HTTPSConnectionPool(host='dc.services.visualstudio.com', port=443): Max retries exceeded with url: /v2.1/track (Caused by SSLError(SSLEOFError(8, 'EOF occurred in violation of protocol (_ssl.c:1129)'))).\n",
      "Retrying due to transient client side error HTTPSConnectionPool(host='dc.services.visualstudio.com', port=443): Max retries exceeded with url: /v2.1/track (Caused by SSLError(SSLEOFError(8, 'EOF occurred in violation of protocol (_ssl.c:1129)'))).\n"
     ]
    },
    {
     "name": "stderr",
     "output_type": "stream",
     "text": [
      "Retrying due to transient client side error HTTPSConnectionPool(host='dc.services.visualstudio.com', port=443): Max retries exceeded with url: /v2.1/track (Caused by SSLError(SSLEOFError(8, 'EOF occurred in violation of protocol (_ssl.c:1129)'))).\n",
      "Retrying due to transient client side error HTTPSConnectionPool(host='dc.services.visualstudio.com', port=443): Max retries exceeded with url: /v2.1/track (Caused by SSLError(SSLEOFError(8, 'EOF occurred in violation of protocol (_ssl.c:1129)'))).\n",
      "Retrying due to transient client side error HTTPSConnectionPool(host='dc.services.visualstudio.com', port=443): Max retries exceeded with url: /v2.1/track (Caused by SSLError(SSLEOFError(8, 'EOF occurred in violation of protocol (_ssl.c:1129)'))).\n",
      "Retrying due to transient client side error HTTPSConnectionPool(host='dc.services.visualstudio.com', port=443): Max retries exceeded with url: /v2.1/track (Caused by SSLError(SSLEOFError(8, 'EOF occurred in violation of protocol (_ssl.c:1129)'))).\n",
      "Retrying due to transient client side error HTTPSConnectionPool(host='dc.services.visualstudio.com', port=443): Max retries exceeded with url: /v2.1/track (Caused by SSLError(SSLEOFError(8, 'EOF occurred in violation of protocol (_ssl.c:1129)'))).\n",
      "Retrying due to transient client side error HTTPSConnectionPool(host='dc.services.visualstudio.com', port=443): Max retries exceeded with url: /v2.1/track (Caused by SSLError(SSLEOFError(8, 'EOF occurred in violation of protocol (_ssl.c:1129)'))).\n",
      "Retrying due to transient client side error HTTPSConnectionPool(host='dc.services.visualstudio.com', port=443): Max retries exceeded with url: /v2.1/track (Caused by SSLError(SSLEOFError(8, 'EOF occurred in violation of protocol (_ssl.c:1129)'))).\n",
      "Retrying due to transient client side error HTTPSConnectionPool(host='dc.services.visualstudio.com', port=443): Max retries exceeded with url: /v2.1/track (Caused by SSLError(SSLEOFError(8, 'EOF occurred in violation of protocol (_ssl.c:1129)'))).\n",
      "Retrying due to transient client side error HTTPSConnectionPool(host='dc.services.visualstudio.com', port=443): Max retries exceeded with url: /v2.1/track (Caused by SSLError(SSLEOFError(8, 'EOF occurred in violation of protocol (_ssl.c:1129)'))).\n",
      "Retrying due to transient client side error HTTPSConnectionPool(host='dc.services.visualstudio.com', port=443): Max retries exceeded with url: /v2.1/track (Caused by SSLError(SSLEOFError(8, 'EOF occurred in violation of protocol (_ssl.c:1129)'))).\n",
      "Retrying due to transient client side error HTTPSConnectionPool(host='dc.services.visualstudio.com', port=443): Max retries exceeded with url: /v2.1/track (Caused by SSLError(SSLEOFError(8, 'EOF occurred in violation of protocol (_ssl.c:1129)'))).\n",
      "Retrying due to transient client side error HTTPSConnectionPool(host='dc.services.visualstudio.com', port=443): Max retries exceeded with url: /v2.1/track (Caused by SSLError(SSLEOFError(8, 'EOF occurred in violation of protocol (_ssl.c:1129)'))).\n",
      "Retrying due to transient client side error HTTPSConnectionPool(host='dc.services.visualstudio.com', port=443): Max retries exceeded with url: /v2.1/track (Caused by SSLError(SSLEOFError(8, 'EOF occurred in violation of protocol (_ssl.c:1129)'))).\n",
      "Retrying due to transient client side error HTTPSConnectionPool(host='dc.services.visualstudio.com', port=443): Max retries exceeded with url: /v2.1/track (Caused by SSLError(SSLEOFError(8, 'EOF occurred in violation of protocol (_ssl.c:1129)'))).\n",
      "Retrying due to transient client side error HTTPSConnectionPool(host='dc.services.visualstudio.com', port=443): Max retries exceeded with url: /v2.1/track (Caused by SSLError(SSLEOFError(8, 'EOF occurred in violation of protocol (_ssl.c:1129)'))).\n",
      "Retrying due to transient client side error HTTPSConnectionPool(host='dc.services.visualstudio.com', port=443): Max retries exceeded with url: /v2.1/track (Caused by SSLError(SSLEOFError(8, 'EOF occurred in violation of protocol (_ssl.c:1129)'))).\n",
      "Retrying due to transient client side error HTTPSConnectionPool(host='dc.services.visualstudio.com', port=443): Max retries exceeded with url: /v2.1/track (Caused by SSLError(SSLEOFError(8, 'EOF occurred in violation of protocol (_ssl.c:1129)'))).\n",
      "Retrying due to transient client side error HTTPSConnectionPool(host='dc.services.visualstudio.com', port=443): Max retries exceeded with url: /v2.1/track (Caused by SSLError(SSLEOFError(8, 'EOF occurred in violation of protocol (_ssl.c:1129)'))).\n",
      "Retrying due to transient client side error HTTPSConnectionPool(host='dc.services.visualstudio.com', port=443): Max retries exceeded with url: /v2.1/track (Caused by SSLError(SSLEOFError(8, 'EOF occurred in violation of protocol (_ssl.c:1129)'))).\n",
      "Retrying due to transient client side error HTTPSConnectionPool(host='dc.services.visualstudio.com', port=443): Max retries exceeded with url: /v2.1/track (Caused by SSLError(SSLEOFError(8, 'EOF occurred in violation of protocol (_ssl.c:1129)'))).\n",
      "Retrying due to transient client side error HTTPSConnectionPool(host='dc.services.visualstudio.com', port=443): Max retries exceeded with url: /v2.1/track (Caused by SSLError(SSLEOFError(8, 'EOF occurred in violation of protocol (_ssl.c:1129)'))).\n",
      "Retrying due to transient client side error HTTPSConnectionPool(host='dc.services.visualstudio.com', port=443): Max retries exceeded with url: /v2.1/track (Caused by SSLError(SSLEOFError(8, 'EOF occurred in violation of protocol (_ssl.c:1129)'))).\n",
      "Retrying due to transient client side error HTTPSConnectionPool(host='dc.services.visualstudio.com', port=443): Max retries exceeded with url: /v2.1/track (Caused by SSLError(SSLEOFError(8, 'EOF occurred in violation of protocol (_ssl.c:1129)'))).\n",
      "Retrying due to transient client side error HTTPSConnectionPool(host='dc.services.visualstudio.com', port=443): Max retries exceeded with url: /v2.1/track (Caused by SSLError(SSLEOFError(8, 'EOF occurred in violation of protocol (_ssl.c:1129)'))).\n",
      "Retrying due to transient client side error HTTPSConnectionPool(host='dc.services.visualstudio.com', port=443): Max retries exceeded with url: /v2.1/track (Caused by SSLError(SSLEOFError(8, 'EOF occurred in violation of protocol (_ssl.c:1129)'))).\n",
      "Retrying due to transient client side error HTTPSConnectionPool(host='dc.services.visualstudio.com', port=443): Max retries exceeded with url: /v2.1/track (Caused by SSLError(SSLEOFError(8, 'EOF occurred in violation of protocol (_ssl.c:1129)'))).\n",
      "Retrying due to transient client side error HTTPSConnectionPool(host='dc.services.visualstudio.com', port=443): Max retries exceeded with url: /v2.1/track (Caused by SSLError(SSLEOFError(8, 'EOF occurred in violation of protocol (_ssl.c:1129)'))).\n",
      "Retrying due to transient client side error HTTPSConnectionPool(host='dc.services.visualstudio.com', port=443): Max retries exceeded with url: /v2.1/track (Caused by SSLError(SSLEOFError(8, 'EOF occurred in violation of protocol (_ssl.c:1129)'))).\n",
      "Retrying due to transient client side error HTTPSConnectionPool(host='dc.services.visualstudio.com', port=443): Max retries exceeded with url: /v2.1/track (Caused by SSLError(SSLEOFError(8, 'EOF occurred in violation of protocol (_ssl.c:1129)'))).\n",
      "Retrying due to transient client side error HTTPSConnectionPool(host='dc.services.visualstudio.com', port=443): Max retries exceeded with url: /v2.1/track (Caused by SSLError(SSLEOFError(8, 'EOF occurred in violation of protocol (_ssl.c:1129)'))).\n",
      "Retrying due to transient client side error HTTPSConnectionPool(host='dc.services.visualstudio.com', port=443): Max retries exceeded with url: /v2.1/track (Caused by SSLError(SSLEOFError(8, 'EOF occurred in violation of protocol (_ssl.c:1129)'))).\n",
      "Retrying due to transient client side error HTTPSConnectionPool(host='dc.services.visualstudio.com', port=443): Max retries exceeded with url: /v2.1/track (Caused by SSLError(SSLEOFError(8, 'EOF occurred in violation of protocol (_ssl.c:1129)'))).\n",
      "Retrying due to transient client side error HTTPSConnectionPool(host='dc.services.visualstudio.com', port=443): Max retries exceeded with url: /v2.1/track (Caused by SSLError(SSLEOFError(8, 'EOF occurred in violation of protocol (_ssl.c:1129)'))).\n",
      "Retrying due to transient client side error HTTPSConnectionPool(host='dc.services.visualstudio.com', port=443): Max retries exceeded with url: /v2.1/track (Caused by SSLError(SSLEOFError(8, 'EOF occurred in violation of protocol (_ssl.c:1129)'))).\n"
     ]
    },
    {
     "name": "stderr",
     "output_type": "stream",
     "text": [
      "Retrying due to transient client side error HTTPSConnectionPool(host='dc.services.visualstudio.com', port=443): Max retries exceeded with url: /v2.1/track (Caused by SSLError(SSLEOFError(8, 'EOF occurred in violation of protocol (_ssl.c:1129)'))).\n",
      "Retrying due to transient client side error HTTPSConnectionPool(host='dc.services.visualstudio.com', port=443): Max retries exceeded with url: /v2.1/track (Caused by SSLError(SSLEOFError(8, 'EOF occurred in violation of protocol (_ssl.c:1129)'))).\n",
      "Retrying due to transient client side error HTTPSConnectionPool(host='dc.services.visualstudio.com', port=443): Max retries exceeded with url: /v2.1/track (Caused by SSLError(SSLEOFError(8, 'EOF occurred in violation of protocol (_ssl.c:1129)'))).\n",
      "Retrying due to transient client side error HTTPSConnectionPool(host='dc.services.visualstudio.com', port=443): Max retries exceeded with url: /v2.1/track (Caused by SSLError(SSLEOFError(8, 'EOF occurred in violation of protocol (_ssl.c:1129)'))).\n",
      "Retrying due to transient client side error HTTPSConnectionPool(host='dc.services.visualstudio.com', port=443): Max retries exceeded with url: /v2.1/track (Caused by SSLError(SSLEOFError(8, 'EOF occurred in violation of protocol (_ssl.c:1129)'))).\n",
      "Retrying due to transient client side error HTTPSConnectionPool(host='dc.services.visualstudio.com', port=443): Max retries exceeded with url: /v2.1/track (Caused by SSLError(SSLEOFError(8, 'EOF occurred in violation of protocol (_ssl.c:1129)'))).\n",
      "Retrying due to transient client side error HTTPSConnectionPool(host='dc.services.visualstudio.com', port=443): Max retries exceeded with url: /v2.1/track (Caused by SSLError(SSLEOFError(8, 'EOF occurred in violation of protocol (_ssl.c:1129)'))).\n",
      "Retrying due to transient client side error HTTPSConnectionPool(host='dc.services.visualstudio.com', port=443): Max retries exceeded with url: /v2.1/track (Caused by SSLError(SSLEOFError(8, 'EOF occurred in violation of protocol (_ssl.c:1129)'))).\n",
      "Retrying due to transient client side error HTTPSConnectionPool(host='dc.services.visualstudio.com', port=443): Max retries exceeded with url: /v2.1/track (Caused by SSLError(SSLEOFError(8, 'EOF occurred in violation of protocol (_ssl.c:1129)'))).\n",
      "Retrying due to transient client side error HTTPSConnectionPool(host='dc.services.visualstudio.com', port=443): Max retries exceeded with url: /v2.1/track (Caused by SSLError(SSLEOFError(8, 'EOF occurred in violation of protocol (_ssl.c:1129)'))).\n",
      "Retrying due to transient client side error HTTPSConnectionPool(host='dc.services.visualstudio.com', port=443): Max retries exceeded with url: /v2.1/track (Caused by SSLError(SSLEOFError(8, 'EOF occurred in violation of protocol (_ssl.c:1129)'))).\n",
      "Retrying due to transient client side error HTTPSConnectionPool(host='dc.services.visualstudio.com', port=443): Max retries exceeded with url: /v2.1/track (Caused by SSLError(SSLEOFError(8, 'EOF occurred in violation of protocol (_ssl.c:1129)'))).\n",
      "Retrying due to transient client side error HTTPSConnectionPool(host='dc.services.visualstudio.com', port=443): Max retries exceeded with url: /v2.1/track (Caused by SSLError(SSLEOFError(8, 'EOF occurred in violation of protocol (_ssl.c:1129)'))).\n",
      "Retrying due to transient client side error HTTPSConnectionPool(host='dc.services.visualstudio.com', port=443): Max retries exceeded with url: /v2.1/track (Caused by SSLError(SSLEOFError(8, 'EOF occurred in violation of protocol (_ssl.c:1129)'))).\n"
     ]
    }
   ],
   "source": [
    "ws = Workspace.from_config()\n",
    "aml_compute_target = \"basic-ci202501201452\"\n",
    "# Retrieve the existing compute target\n",
    "compute_target = ComputeTarget(workspace=ws, name=aml_compute_target)"
   ]
  },
  {
   "cell_type": "code",
   "execution_count": 11,
   "id": "6977aa5f",
   "metadata": {},
   "outputs": [],
   "source": [
    "experiment_name = 'nse_experiment'\n",
    "exp = Experiment(ws,experiment_name)\n"
   ]
  },
  {
   "cell_type": "code",
   "execution_count": 17,
   "id": "5b0c7b86",
   "metadata": {},
   "outputs": [
    {
     "name": "stderr",
     "output_type": "stream",
     "text": [
      "Retrying due to transient client side error HTTPSConnectionPool(host='dc.services.visualstudio.com', port=443): Max retries exceeded with url: /v2.1/track (Caused by SSLError(SSLEOFError(8, 'EOF occurred in violation of protocol (_ssl.c:1129)'))).\n",
      "Retrying due to transient client side error HTTPSConnectionPool(host='dc.services.visualstudio.com', port=443): Max retries exceeded with url: /v2.1/track (Caused by SSLError(SSLEOFError(8, 'EOF occurred in violation of protocol (_ssl.c:1129)'))).\n",
      "Retrying due to transient client side error HTTPSConnectionPool(host='dc.services.visualstudio.com', port=443): Max retries exceeded with url: /v2.1/track (Caused by SSLError(SSLEOFError(8, 'EOF occurred in violation of protocol (_ssl.c:1129)'))).\n",
      "Retrying due to transient client side error HTTPSConnectionPool(host='dc.services.visualstudio.com', port=443): Max retries exceeded with url: /v2.1/track (Caused by SSLError(SSLEOFError(8, 'EOF occurred in violation of protocol (_ssl.c:1129)'))).\n",
      "Retrying due to transient client side error HTTPSConnectionPool(host='dc.services.visualstudio.com', port=443): Max retries exceeded with url: /v2.1/track (Caused by SSLError(SSLEOFError(8, 'EOF occurred in violation of protocol (_ssl.c:1129)'))).\n",
      "Retrying due to transient client side error HTTPSConnectionPool(host='dc.services.visualstudio.com', port=443): Max retries exceeded with url: /v2.1/track (Caused by SSLError(SSLEOFError(8, 'EOF occurred in violation of protocol (_ssl.c:1129)'))).\n",
      "Retrying due to transient client side error HTTPSConnectionPool(host='dc.services.visualstudio.com', port=443): Max retries exceeded with url: /v2.1/track (Caused by SSLError(SSLEOFError(8, 'EOF occurred in violation of protocol (_ssl.c:1129)'))).\n",
      "Retrying due to transient client side error HTTPSConnectionPool(host='dc.services.visualstudio.com', port=443): Max retries exceeded with url: /v2.1/track (Caused by SSLError(SSLEOFError(8, 'EOF occurred in violation of protocol (_ssl.c:1129)'))).\n",
      "Retrying due to transient client side error HTTPSConnectionPool(host='dc.services.visualstudio.com', port=443): Max retries exceeded with url: /v2.1/track (Caused by SSLError(SSLEOFError(8, 'EOF occurred in violation of protocol (_ssl.c:1129)'))).\n",
      "Retrying due to transient client side error HTTPSConnectionPool(host='dc.services.visualstudio.com', port=443): Max retries exceeded with url: /v2.1/track (Caused by SSLError(SSLEOFError(8, 'EOF occurred in violation of protocol (_ssl.c:1129)'))).\n"
     ]
    }
   ],
   "source": [
    "from azure.ai.ml.entities import Data"
   ]
  },
  {
   "cell_type": "code",
   "execution_count": null,
   "id": "cf23ef9d",
   "metadata": {},
   "outputs": [],
   "source": []
  },
  {
   "cell_type": "code",
   "execution_count": 10,
   "id": "6b833345",
   "metadata": {},
   "outputs": [
    {
     "name": "stderr",
     "output_type": "stream",
     "text": [
      "Submitting /Users/sunilsharma/Desktop/nse_pipeline directory for run. The size of the directory >= 25 MB, so it can take a few minutes.\n"
     ]
    },
    {
     "ename": "SnapshotException",
     "evalue": "SnapshotException:\n\tMessage: ====================================================================\n\nWhile attempting to take snapshot of /Users/sunilsharma/Desktop/nse_pipeline\nYour total snapshot size exceeds the limit of 300.0 MB.\nPlease see http://aka.ms/aml-largefiles on how to work with large files.\n\n====================================================================\n\n\n\tInnerException None\n\tErrorResponse \n{\n    \"error\": {\n        \"message\": \"====================================================================\\n\\nWhile attempting to take snapshot of /Users/sunilsharma/Desktop/nse_pipeline\\nYour total snapshot size exceeds the limit of 300.0 MB.\\nPlease see http://aka.ms/aml-largefiles on how to work with large files.\\n\\n====================================================================\\n\\n\"\n    }\n}",
     "output_type": "error",
     "traceback": [
      "\u001b[0;31m---------------------------------------------------------------------------\u001b[0m",
      "\u001b[0;31mSnapshotException\u001b[0m                         Traceback (most recent call last)",
      "Cell \u001b[0;32mIn[10], line 3\u001b[0m\n\u001b[1;32m      1\u001b[0m env \u001b[38;5;241m=\u001b[39m Environment\u001b[38;5;241m.\u001b[39mfrom_conda_specification(name\u001b[38;5;241m=\u001b[39m\u001b[38;5;124m\"\u001b[39m\u001b[38;5;124mmy_env\u001b[39m\u001b[38;5;124m\"\u001b[39m,file_path\u001b[38;5;241m=\u001b[39m\u001b[38;5;124m\"\u001b[39m\u001b[38;5;124m./envfile.yml\u001b[39m\u001b[38;5;124m\"\u001b[39m)\n\u001b[1;32m      2\u001b[0m config\u001b[38;5;241m=\u001b[39mScriptRunConfig(source_directory\u001b[38;5;241m=\u001b[39m\u001b[38;5;124m\"\u001b[39m\u001b[38;5;124m./\u001b[39m\u001b[38;5;124m\"\u001b[39m,script\u001b[38;5;241m=\u001b[39m\u001b[38;5;124m\"\u001b[39m\u001b[38;5;124mreliance_train.py\u001b[39m\u001b[38;5;124m\"\u001b[39m,compute_target\u001b[38;5;241m=\u001b[39maml_compute_target,environment\u001b[38;5;241m=\u001b[39menv)\n\u001b[0;32m----> 3\u001b[0m execution\u001b[38;5;241m=\u001b[39m\u001b[43mexp\u001b[49m\u001b[38;5;241;43m.\u001b[39;49m\u001b[43msubmit\u001b[49m\u001b[43m(\u001b[49m\u001b[43mconfig\u001b[49m\u001b[43m)\u001b[49m\n\u001b[1;32m      4\u001b[0m execution\u001b[38;5;241m.\u001b[39mwait_for_completion(show_output\u001b[38;5;241m=\u001b[39m\u001b[38;5;28;01mTrue\u001b[39;00m)\n",
      "File \u001b[0;32m~/Desktop/nse_pipeline/my_env/lib/python3.9/site-packages/azureml/core/experiment.py:238\u001b[0m, in \u001b[0;36mExperiment.submit\u001b[0;34m(self, config, tags, **kwargs)\u001b[0m\n\u001b[1;32m    236\u001b[0m submit_func \u001b[38;5;241m=\u001b[39m get_experiment_submit(config)\n\u001b[1;32m    237\u001b[0m \u001b[38;5;28;01mwith\u001b[39;00m \u001b[38;5;28mself\u001b[39m\u001b[38;5;241m.\u001b[39m_log_context(\u001b[38;5;124m\"\u001b[39m\u001b[38;5;124msubmit config \u001b[39m\u001b[38;5;132;01m{}\u001b[39;00m\u001b[38;5;124m\"\u001b[39m\u001b[38;5;241m.\u001b[39mformat(config\u001b[38;5;241m.\u001b[39m\u001b[38;5;18m__class__\u001b[39m\u001b[38;5;241m.\u001b[39m\u001b[38;5;18m__name__\u001b[39m)):\n\u001b[0;32m--> 238\u001b[0m     run \u001b[38;5;241m=\u001b[39m \u001b[43msubmit_func\u001b[49m\u001b[43m(\u001b[49m\u001b[43mconfig\u001b[49m\u001b[43m,\u001b[49m\u001b[43m \u001b[49m\u001b[38;5;28;43mself\u001b[39;49m\u001b[38;5;241;43m.\u001b[39;49m\u001b[43mworkspace\u001b[49m\u001b[43m,\u001b[49m\u001b[43m \u001b[49m\u001b[38;5;28;43mself\u001b[39;49m\u001b[38;5;241;43m.\u001b[39;49m\u001b[43mname\u001b[49m\u001b[43m,\u001b[49m\u001b[43m \u001b[49m\u001b[38;5;241;43m*\u001b[39;49m\u001b[38;5;241;43m*\u001b[39;49m\u001b[43mkwargs\u001b[49m\u001b[43m)\u001b[49m\n\u001b[1;32m    239\u001b[0m \u001b[38;5;28;01mif\u001b[39;00m tags \u001b[38;5;129;01mis\u001b[39;00m \u001b[38;5;129;01mnot\u001b[39;00m \u001b[38;5;28;01mNone\u001b[39;00m:\n\u001b[1;32m    240\u001b[0m     run\u001b[38;5;241m.\u001b[39mset_tags(tags)\n",
      "File \u001b[0;32m~/Desktop/nse_pipeline/my_env/lib/python3.9/site-packages/azureml/core/script_run_config.py:63\u001b[0m, in \u001b[0;36msubmit\u001b[0;34m(script_run_config, workspace, experiment_name, run_id, _parent_run_id, credential_passthrough)\u001b[0m\n\u001b[1;32m     60\u001b[0m inputs, _ \u001b[38;5;241m=\u001b[39m _update_args_and_io(workspace, run_config)\n\u001b[1;32m     61\u001b[0m collect_datasets_usage(module_logger, _SCRIPT_RUN_SUBMIT_ACTIVITY, inputs,\n\u001b[1;32m     62\u001b[0m                        workspace, run_config\u001b[38;5;241m.\u001b[39mtarget)\n\u001b[0;32m---> 63\u001b[0m run \u001b[38;5;241m=\u001b[39m \u001b[43m_commands\u001b[49m\u001b[38;5;241;43m.\u001b[39;49m\u001b[43mstart_run\u001b[49m\u001b[43m(\u001b[49m\u001b[43mproject\u001b[49m\u001b[43m,\u001b[49m\u001b[43m \u001b[49m\u001b[43mrun_config\u001b[49m\u001b[43m,\u001b[49m\n\u001b[1;32m     64\u001b[0m \u001b[43m                          \u001b[49m\u001b[43mtelemetry_values\u001b[49m\u001b[38;5;241;43m=\u001b[39;49m\u001b[43mscript_run_config\u001b[49m\u001b[38;5;241;43m.\u001b[39;49m\u001b[43m_telemetry_values\u001b[49m\u001b[43m,\u001b[49m\n\u001b[1;32m     65\u001b[0m \u001b[43m                          \u001b[49m\u001b[43mrun_id\u001b[49m\u001b[38;5;241;43m=\u001b[39;49m\u001b[43mrun_id\u001b[49m\u001b[43m,\u001b[49m\u001b[43m \u001b[49m\u001b[43mparent_run_id\u001b[49m\u001b[38;5;241;43m=\u001b[39;49m\u001b[43m_parent_run_id\u001b[49m\u001b[43m)\u001b[49m\n\u001b[1;32m     66\u001b[0m run\u001b[38;5;241m.\u001b[39madd_properties(global_tracking_info_registry\u001b[38;5;241m.\u001b[39mgather_all(script_run_config\u001b[38;5;241m.\u001b[39msource_directory))\n\u001b[1;32m     68\u001b[0m \u001b[38;5;28;01mreturn\u001b[39;00m run\n",
      "File \u001b[0;32m~/Desktop/nse_pipeline/my_env/lib/python3.9/site-packages/azureml/_execution/_commands.py:120\u001b[0m, in \u001b[0;36mstart_run\u001b[0;34m(project_object, run_config_object, run_id, injected_files, telemetry_values, parent_run_id, prepare_only, check)\u001b[0m\n\u001b[1;32m    117\u001b[0m     \u001b[38;5;28;01mreturn\u001b[39;00m _start_internal_local_cloud(project_object, run_config_object,\n\u001b[1;32m    118\u001b[0m                                        \u001b[38;5;241m*\u001b[39m\u001b[38;5;241m*\u001b[39mshared_start_run_kwargs)\n\u001b[1;32m    119\u001b[0m \u001b[38;5;28;01melse\u001b[39;00m:\n\u001b[0;32m--> 120\u001b[0m     \u001b[38;5;28;01mreturn\u001b[39;00m \u001b[43m_start_internal\u001b[49m\u001b[43m(\u001b[49m\u001b[43mproject_object\u001b[49m\u001b[43m,\u001b[49m\u001b[43m \u001b[49m\u001b[43mrun_config_object\u001b[49m\u001b[43m,\u001b[49m\u001b[43m \u001b[49m\u001b[43mprepare_check\u001b[49m\u001b[38;5;241;43m=\u001b[39;49m\u001b[43mcheck\u001b[49m\u001b[43m,\u001b[49m\n\u001b[1;32m    121\u001b[0m \u001b[43m                           \u001b[49m\u001b[38;5;241;43m*\u001b[39;49m\u001b[38;5;241;43m*\u001b[39;49m\u001b[43mshared_start_run_kwargs\u001b[49m\u001b[43m)\u001b[49m\n",
      "File \u001b[0;32m~/Desktop/nse_pipeline/my_env/lib/python3.9/site-packages/azureml/_execution/_commands.py:402\u001b[0m, in \u001b[0;36m_start_internal\u001b[0;34m(project_object, run_config_object, prepare_only, prepare_check, custom_target_dict, run_id, injected_files, telemetry_values, parent_run_id)\u001b[0m\n\u001b[1;32m    398\u001b[0m run_id_query \u001b[38;5;241m=\u001b[39m urllib\u001b[38;5;241m.\u001b[39mparse\u001b[38;5;241m.\u001b[39murlencode({\u001b[38;5;124m\"\u001b[39m\u001b[38;5;124mrunId\u001b[39m\u001b[38;5;124m\"\u001b[39m: run_id})\n\u001b[1;32m    400\u001b[0m uri \u001b[38;5;241m+\u001b[39m\u001b[38;5;241m=\u001b[39m \u001b[38;5;124m\"\u001b[39m\u001b[38;5;124m?\u001b[39m\u001b[38;5;124m\"\u001b[39m \u001b[38;5;241m+\u001b[39m run_id_query\n\u001b[0;32m--> 402\u001b[0m snapshot_id \u001b[38;5;241m=\u001b[39m \u001b[43msnapshot_async\u001b[49m\u001b[38;5;241;43m.\u001b[39;49m\u001b[43mget\u001b[49m\u001b[43m(\u001b[49m\u001b[43m)\u001b[49m \u001b[38;5;28;01mif\u001b[39;00m snapshot_async \u001b[38;5;28;01melse\u001b[39;00m \u001b[38;5;28;01mNone\u001b[39;00m\n\u001b[1;32m    403\u001b[0m thread_pool\u001b[38;5;241m.\u001b[39mclose()\n\u001b[1;32m    405\u001b[0m definition \u001b[38;5;241m=\u001b[39m {\n\u001b[1;32m    406\u001b[0m     \u001b[38;5;124m\"\u001b[39m\u001b[38;5;124mTargetDetails\u001b[39m\u001b[38;5;124m\"\u001b[39m: custom_target_dict,\n\u001b[1;32m    407\u001b[0m     \u001b[38;5;124m\"\u001b[39m\u001b[38;5;124mConfiguration\u001b[39m\u001b[38;5;124m\"\u001b[39m: _serialize_run_config_to_dict(run_config_object),\n\u001b[1;32m    408\u001b[0m     \u001b[38;5;124m\"\u001b[39m\u001b[38;5;124mTelemetryValues\u001b[39m\u001b[38;5;124m\"\u001b[39m: telemetry_values\n\u001b[1;32m    409\u001b[0m }\n",
      "File \u001b[0;32m/Library/Frameworks/Python.framework/Versions/3.9/lib/python3.9/multiprocessing/pool.py:771\u001b[0m, in \u001b[0;36mApplyResult.get\u001b[0;34m(self, timeout)\u001b[0m\n\u001b[1;32m    769\u001b[0m     \u001b[38;5;28;01mreturn\u001b[39;00m \u001b[38;5;28mself\u001b[39m\u001b[38;5;241m.\u001b[39m_value\n\u001b[1;32m    770\u001b[0m \u001b[38;5;28;01melse\u001b[39;00m:\n\u001b[0;32m--> 771\u001b[0m     \u001b[38;5;28;01mraise\u001b[39;00m \u001b[38;5;28mself\u001b[39m\u001b[38;5;241m.\u001b[39m_value\n",
      "File \u001b[0;32m/Library/Frameworks/Python.framework/Versions/3.9/lib/python3.9/multiprocessing/pool.py:125\u001b[0m, in \u001b[0;36mworker\u001b[0;34m(inqueue, outqueue, initializer, initargs, maxtasks, wrap_exception)\u001b[0m\n\u001b[1;32m    123\u001b[0m job, i, func, args, kwds \u001b[38;5;241m=\u001b[39m task\n\u001b[1;32m    124\u001b[0m \u001b[38;5;28;01mtry\u001b[39;00m:\n\u001b[0;32m--> 125\u001b[0m     result \u001b[38;5;241m=\u001b[39m (\u001b[38;5;28;01mTrue\u001b[39;00m, \u001b[43mfunc\u001b[49m\u001b[43m(\u001b[49m\u001b[38;5;241;43m*\u001b[39;49m\u001b[43margs\u001b[49m\u001b[43m,\u001b[49m\u001b[43m \u001b[49m\u001b[38;5;241;43m*\u001b[39;49m\u001b[38;5;241;43m*\u001b[39;49m\u001b[43mkwds\u001b[49m\u001b[43m)\u001b[49m)\n\u001b[1;32m    126\u001b[0m \u001b[38;5;28;01mexcept\u001b[39;00m \u001b[38;5;167;01mException\u001b[39;00m \u001b[38;5;28;01mas\u001b[39;00m e:\n\u001b[1;32m    127\u001b[0m     \u001b[38;5;28;01mif\u001b[39;00m wrap_exception \u001b[38;5;129;01mand\u001b[39;00m func \u001b[38;5;129;01mis\u001b[39;00m \u001b[38;5;129;01mnot\u001b[39;00m _helper_reraises_exception:\n",
      "File \u001b[0;32m~/Desktop/nse_pipeline/my_env/lib/python3.9/site-packages/azureml/_restclient/snapshots_client.py:87\u001b[0m, in \u001b[0;36mSnapshotsClient.create_snapshot\u001b[0;34m(self, file_or_folder_path, retry_on_failure, raise_on_validation_failure)\u001b[0m\n\u001b[1;32m     84\u001b[0m ignore_file \u001b[38;5;241m=\u001b[39m get_project_ignore_file(file_or_folder_path)\n\u001b[1;32m     85\u001b[0m exclude_function \u001b[38;5;241m=\u001b[39m ignore_file\u001b[38;5;241m.\u001b[39mis_file_excluded\n\u001b[0;32m---> 87\u001b[0m \u001b[38;5;28;43mself\u001b[39;49m\u001b[38;5;241;43m.\u001b[39;49m\u001b[43m_validate_snapshot_size\u001b[49m\u001b[43m(\u001b[49m\u001b[43mfile_or_folder_path\u001b[49m\u001b[43m,\u001b[49m\u001b[43m \u001b[49m\u001b[43mexclude_function\u001b[49m\u001b[43m,\u001b[49m\u001b[43m \u001b[49m\u001b[43mraise_on_validation_failure\u001b[49m\u001b[43m)\u001b[49m\n\u001b[1;32m     89\u001b[0m \u001b[38;5;66;03m# Get the previous snapshot for this project\u001b[39;00m\n\u001b[1;32m     90\u001b[0m \u001b[38;5;28;01mtry\u001b[39;00m:\n",
      "File \u001b[0;32m~/Desktop/nse_pipeline/my_env/lib/python3.9/site-packages/azureml/_restclient/snapshots_client.py:65\u001b[0m, in \u001b[0;36mSnapshotsClient._validate_snapshot_size\u001b[0;34m(self, file_or_folder_path, exclude_function, raise_on_validation_failure)\u001b[0m\n\u001b[1;32m     56\u001b[0m error_message \u001b[38;5;241m=\u001b[39m \u001b[38;5;124m\"\u001b[39m\u001b[38;5;124m====================================================================\u001b[39m\u001b[38;5;130;01m\\n\u001b[39;00m\u001b[38;5;124m\"\u001b[39m \\\n\u001b[1;32m     57\u001b[0m                 \u001b[38;5;124m\"\u001b[39m\u001b[38;5;130;01m\\n\u001b[39;00m\u001b[38;5;124m\"\u001b[39m \\\n\u001b[1;32m     58\u001b[0m                 \u001b[38;5;124m\"\u001b[39m\u001b[38;5;124mWhile attempting to take snapshot of \u001b[39m\u001b[38;5;132;01m{}\u001b[39;00m\u001b[38;5;130;01m\\n\u001b[39;00m\u001b[38;5;124m\"\u001b[39m \\\n\u001b[0;32m   (...)\u001b[0m\n\u001b[1;32m     62\u001b[0m                 \u001b[38;5;124m\"\u001b[39m\u001b[38;5;124m====================================================================\u001b[39m\u001b[38;5;130;01m\\n\u001b[39;00m\u001b[38;5;124m\"\u001b[39m \\\n\u001b[1;32m     63\u001b[0m                 \u001b[38;5;124m\"\u001b[39m\u001b[38;5;130;01m\\n\u001b[39;00m\u001b[38;5;124m\"\u001b[39m\u001b[38;5;241m.\u001b[39mformat(file_or_folder_path, SNAPSHOT_MAX_SIZE_BYTES \u001b[38;5;241m/\u001b[39m ONE_MB)\n\u001b[1;32m     64\u001b[0m \u001b[38;5;28;01mif\u001b[39;00m raise_on_validation_failure:\n\u001b[0;32m---> 65\u001b[0m     \u001b[38;5;28;01mraise\u001b[39;00m SnapshotException(error_message)\n\u001b[1;32m     66\u001b[0m \u001b[38;5;28;01melse\u001b[39;00m:\n\u001b[1;32m     67\u001b[0m     \u001b[38;5;28mself\u001b[39m\u001b[38;5;241m.\u001b[39m_logger\u001b[38;5;241m.\u001b[39mwarning(error_message)\n",
      "\u001b[0;31mSnapshotException\u001b[0m: SnapshotException:\n\tMessage: ====================================================================\n\nWhile attempting to take snapshot of /Users/sunilsharma/Desktop/nse_pipeline\nYour total snapshot size exceeds the limit of 300.0 MB.\nPlease see http://aka.ms/aml-largefiles on how to work with large files.\n\n====================================================================\n\n\n\tInnerException None\n\tErrorResponse \n{\n    \"error\": {\n        \"message\": \"====================================================================\\n\\nWhile attempting to take snapshot of /Users/sunilsharma/Desktop/nse_pipeline\\nYour total snapshot size exceeds the limit of 300.0 MB.\\nPlease see http://aka.ms/aml-largefiles on how to work with large files.\\n\\n====================================================================\\n\\n\"\n    }\n}"
     ]
    }
   ],
   "source": [
    "env = Environment.from_conda_specification(name=\"my_env\",file_path=\"./envfile.yml\")\n",
    "config=ScriptRunConfig(source_directory=\"./\",script=\"reliance_train.py\",compute_target=aml_compute_target,environment=env)\n",
    "execution=exp.submit(config)\n",
    "execution.wait_for_completion(show_output=True)"
   ]
  },
  {
   "cell_type": "code",
   "execution_count": 14,
   "id": "d7749f23",
   "metadata": {},
   "outputs": [
    {
     "name": "stdout",
     "output_type": "stream",
     "text": [
      "Datastore nsemldatastore registered successfully.\n"
     ]
    }
   ],
   "source": [
    "\"\"\"\"from azureml.core.datastore import Datastore\n",
    "\n",
    "# Register Azure Blob Storage datastore\n",
    "datastore_name = \"nsemldatastore\"  \n",
    "container_name = \"gold\"       # Azure Blob Storage container name\n",
    "account_name = \"nseblob\"        # Azure Storage account name\n",
    "account_key = \"thGD5YyuxbxT+v9VM8dyKGCkVaQXBugFA7xFARaZJ5PgaYCs1w1sBZyga8gEh0ERsD80+oIkTpgq+AStmna9IQ==\"          # Azure Storage account key\n",
    "\n",
    "# Register the datastore\n",
    "blob_datastore = Datastore.register_azure_blob_container(\n",
    "    workspace=ws,\n",
    "    datastore_name=datastore_name,\n",
    "    container_name=container_name,\n",
    "    account_name=account_name,\n",
    "    account_key=account_key\n",
    ")\n",
    "\n",
    "print(f\"Datastore {datastore_name} registered successfully.\")\"\"\"\n"
   ]
  },
  {
   "cell_type": "code",
   "execution_count": null,
   "id": "12d9c248",
   "metadata": {},
   "outputs": [],
   "source": []
  },
  {
   "cell_type": "code",
   "execution_count": 10,
   "id": "baeff077",
   "metadata": {},
   "outputs": [],
   "source": [
    "# Retrieve the data asset\n",
    "data_asset = ml_client.data.get(\"nse_dataasset\", version=\"1\")"
   ]
  },
  {
   "cell_type": "code",
   "execution_count": 11,
   "id": "13952222",
   "metadata": {},
   "outputs": [
    {
     "name": "stdout",
     "output_type": "stream",
     "text": [
      "creation_context:\n",
      "  created_at: '2025-01-22T15:33:06.642492+00:00'\n",
      "  created_by: Sunil Sharma\n",
      "  created_by_type: User\n",
      "  last_modified_at: '2025-01-22T15:33:06.649922+00:00'\n",
      "id: /subscriptions/a9be2bae-a7e2-4890-9232-48dc82eb3c71/resourceGroups/mlproject/providers/Microsoft.MachineLearningServices/workspaces/mlprojectexperiments/data/nse_dataasset/versions/1\n",
      "name: nse_dataasset\n",
      "path: azureml://subscriptions/a9be2bae-a7e2-4890-9232-48dc82eb3c71/resourcegroups/mlproject/workspaces/mlprojectexperiments/datastores/nsemldatastore/paths/final_nse.csv\n",
      "properties: {}\n",
      "tags: {}\n",
      "type: uri_file\n",
      "version: '1'\n",
      "\n"
     ]
    }
   ],
   "source": [
    "print(data_asset)"
   ]
  },
  {
   "cell_type": "code",
   "execution_count": 13,
   "id": "b22c59f9",
   "metadata": {},
   "outputs": [
    {
     "ename": "ValueError",
     "evalue": "Protocol not known: azureml",
     "output_type": "error",
     "traceback": [
      "\u001b[0;31m---------------------------------------------------------------------------\u001b[0m",
      "\u001b[0;31mValueError\u001b[0m                                Traceback (most recent call last)",
      "Cell \u001b[0;32mIn[13], line 7\u001b[0m\n\u001b[1;32m      4\u001b[0m     \u001b[38;5;28;01mimport\u001b[39;00m\u001b[38;5;250m \u001b[39m\u001b[38;5;21;01mfsspec\u001b[39;00m\n\u001b[1;32m      6\u001b[0m     \u001b[38;5;66;03m# Open the data asset using fsspec\u001b[39;00m\n\u001b[0;32m----> 7\u001b[0m     \u001b[38;5;28;01mwith\u001b[39;00m \u001b[43mfsspec\u001b[49m\u001b[38;5;241;43m.\u001b[39;49m\u001b[43mopen\u001b[49m\u001b[43m(\u001b[49m\u001b[43mdata_asset\u001b[49m\u001b[38;5;241;43m.\u001b[39;49m\u001b[43mpath\u001b[49m\u001b[43m,\u001b[49m\u001b[43m \u001b[49m\u001b[43mmode\u001b[49m\u001b[38;5;241;43m=\u001b[39;49m\u001b[38;5;124;43m\"\u001b[39;49m\u001b[38;5;124;43mr\u001b[39;49m\u001b[38;5;124;43m\"\u001b[39;49m\u001b[43m)\u001b[49m \u001b[38;5;28;01mas\u001b[39;00m file:\n\u001b[1;32m      8\u001b[0m         df \u001b[38;5;241m=\u001b[39m pd\u001b[38;5;241m.\u001b[39mread_csv(file)\n\u001b[1;32m     10\u001b[0m \u001b[38;5;28;01melse\u001b[39;00m:\n\u001b[1;32m     11\u001b[0m     \u001b[38;5;66;03m# If it's already a file path, download or use as needed\u001b[39;00m\n",
      "File \u001b[0;32m~/Desktop/nse_pipeline/my_env/lib/python3.9/site-packages/fsspec/core.py:491\u001b[0m, in \u001b[0;36mopen\u001b[0;34m(urlpath, mode, compression, encoding, errors, protocol, newline, expand, **kwargs)\u001b[0m\n\u001b[1;32m    433\u001b[0m \u001b[38;5;250m\u001b[39m\u001b[38;5;124;03m\"\"\"Given a path or paths, return one ``OpenFile`` object.\u001b[39;00m\n\u001b[1;32m    434\u001b[0m \n\u001b[1;32m    435\u001b[0m \u001b[38;5;124;03mParameters\u001b[39;00m\n\u001b[0;32m   (...)\u001b[0m\n\u001b[1;32m    488\u001b[0m \u001b[38;5;124;03m  https://filesystem-spec.readthedocs.io/en/latest/api.html#other-known-implementations\u001b[39;00m\n\u001b[1;32m    489\u001b[0m \u001b[38;5;124;03m\"\"\"\u001b[39;00m\n\u001b[1;32m    490\u001b[0m expand \u001b[38;5;241m=\u001b[39m DEFAULT_EXPAND \u001b[38;5;28;01mif\u001b[39;00m expand \u001b[38;5;129;01mis\u001b[39;00m \u001b[38;5;28;01mNone\u001b[39;00m \u001b[38;5;28;01melse\u001b[39;00m expand\n\u001b[0;32m--> 491\u001b[0m out \u001b[38;5;241m=\u001b[39m \u001b[43mopen_files\u001b[49m\u001b[43m(\u001b[49m\n\u001b[1;32m    492\u001b[0m \u001b[43m    \u001b[49m\u001b[43murlpath\u001b[49m\u001b[38;5;241;43m=\u001b[39;49m\u001b[43m[\u001b[49m\u001b[43murlpath\u001b[49m\u001b[43m]\u001b[49m\u001b[43m,\u001b[49m\n\u001b[1;32m    493\u001b[0m \u001b[43m    \u001b[49m\u001b[43mmode\u001b[49m\u001b[38;5;241;43m=\u001b[39;49m\u001b[43mmode\u001b[49m\u001b[43m,\u001b[49m\n\u001b[1;32m    494\u001b[0m \u001b[43m    \u001b[49m\u001b[43mcompression\u001b[49m\u001b[38;5;241;43m=\u001b[39;49m\u001b[43mcompression\u001b[49m\u001b[43m,\u001b[49m\n\u001b[1;32m    495\u001b[0m \u001b[43m    \u001b[49m\u001b[43mencoding\u001b[49m\u001b[38;5;241;43m=\u001b[39;49m\u001b[43mencoding\u001b[49m\u001b[43m,\u001b[49m\n\u001b[1;32m    496\u001b[0m \u001b[43m    \u001b[49m\u001b[43merrors\u001b[49m\u001b[38;5;241;43m=\u001b[39;49m\u001b[43merrors\u001b[49m\u001b[43m,\u001b[49m\n\u001b[1;32m    497\u001b[0m \u001b[43m    \u001b[49m\u001b[43mprotocol\u001b[49m\u001b[38;5;241;43m=\u001b[39;49m\u001b[43mprotocol\u001b[49m\u001b[43m,\u001b[49m\n\u001b[1;32m    498\u001b[0m \u001b[43m    \u001b[49m\u001b[43mnewline\u001b[49m\u001b[38;5;241;43m=\u001b[39;49m\u001b[43mnewline\u001b[49m\u001b[43m,\u001b[49m\n\u001b[1;32m    499\u001b[0m \u001b[43m    \u001b[49m\u001b[43mexpand\u001b[49m\u001b[38;5;241;43m=\u001b[39;49m\u001b[43mexpand\u001b[49m\u001b[43m,\u001b[49m\n\u001b[1;32m    500\u001b[0m \u001b[43m    \u001b[49m\u001b[38;5;241;43m*\u001b[39;49m\u001b[38;5;241;43m*\u001b[39;49m\u001b[43mkwargs\u001b[49m\u001b[43m,\u001b[49m\n\u001b[1;32m    501\u001b[0m \u001b[43m\u001b[49m\u001b[43m)\u001b[49m\n\u001b[1;32m    502\u001b[0m \u001b[38;5;28;01mif\u001b[39;00m \u001b[38;5;129;01mnot\u001b[39;00m out:\n\u001b[1;32m    503\u001b[0m     \u001b[38;5;28;01mraise\u001b[39;00m \u001b[38;5;167;01mFileNotFoundError\u001b[39;00m(urlpath)\n",
      "File \u001b[0;32m~/Desktop/nse_pipeline/my_env/lib/python3.9/site-packages/fsspec/core.py:295\u001b[0m, in \u001b[0;36mopen_files\u001b[0;34m(urlpath, mode, compression, encoding, errors, name_function, num, protocol, newline, auto_mkdir, expand, **kwargs)\u001b[0m\n\u001b[1;32m    216\u001b[0m \u001b[38;5;28;01mdef\u001b[39;00m\u001b[38;5;250m \u001b[39m\u001b[38;5;21mopen_files\u001b[39m(\n\u001b[1;32m    217\u001b[0m     urlpath,\n\u001b[1;32m    218\u001b[0m     mode\u001b[38;5;241m=\u001b[39m\u001b[38;5;124m\"\u001b[39m\u001b[38;5;124mrb\u001b[39m\u001b[38;5;124m\"\u001b[39m,\n\u001b[0;32m   (...)\u001b[0m\n\u001b[1;32m    228\u001b[0m     \u001b[38;5;241m*\u001b[39m\u001b[38;5;241m*\u001b[39mkwargs,\n\u001b[1;32m    229\u001b[0m ):\n\u001b[1;32m    230\u001b[0m \u001b[38;5;250m    \u001b[39m\u001b[38;5;124;03m\"\"\"Given a path or paths, return a list of ``OpenFile`` objects.\u001b[39;00m\n\u001b[1;32m    231\u001b[0m \n\u001b[1;32m    232\u001b[0m \u001b[38;5;124;03m    For writing, a str path must contain the \"*\" character, which will be filled\u001b[39;00m\n\u001b[0;32m   (...)\u001b[0m\n\u001b[1;32m    293\u001b[0m \u001b[38;5;124;03m      https://filesystem-spec.readthedocs.io/en/latest/api.html#other-known-implementations\u001b[39;00m\n\u001b[1;32m    294\u001b[0m \u001b[38;5;124;03m    \"\"\"\u001b[39;00m\n\u001b[0;32m--> 295\u001b[0m     fs, fs_token, paths \u001b[38;5;241m=\u001b[39m \u001b[43mget_fs_token_paths\u001b[49m\u001b[43m(\u001b[49m\n\u001b[1;32m    296\u001b[0m \u001b[43m        \u001b[49m\u001b[43murlpath\u001b[49m\u001b[43m,\u001b[49m\n\u001b[1;32m    297\u001b[0m \u001b[43m        \u001b[49m\u001b[43mmode\u001b[49m\u001b[43m,\u001b[49m\n\u001b[1;32m    298\u001b[0m \u001b[43m        \u001b[49m\u001b[43mnum\u001b[49m\u001b[38;5;241;43m=\u001b[39;49m\u001b[43mnum\u001b[49m\u001b[43m,\u001b[49m\n\u001b[1;32m    299\u001b[0m \u001b[43m        \u001b[49m\u001b[43mname_function\u001b[49m\u001b[38;5;241;43m=\u001b[39;49m\u001b[43mname_function\u001b[49m\u001b[43m,\u001b[49m\n\u001b[1;32m    300\u001b[0m \u001b[43m        \u001b[49m\u001b[43mstorage_options\u001b[49m\u001b[38;5;241;43m=\u001b[39;49m\u001b[43mkwargs\u001b[49m\u001b[43m,\u001b[49m\n\u001b[1;32m    301\u001b[0m \u001b[43m        \u001b[49m\u001b[43mprotocol\u001b[49m\u001b[38;5;241;43m=\u001b[39;49m\u001b[43mprotocol\u001b[49m\u001b[43m,\u001b[49m\n\u001b[1;32m    302\u001b[0m \u001b[43m        \u001b[49m\u001b[43mexpand\u001b[49m\u001b[38;5;241;43m=\u001b[39;49m\u001b[43mexpand\u001b[49m\u001b[43m,\u001b[49m\n\u001b[1;32m    303\u001b[0m \u001b[43m    \u001b[49m\u001b[43m)\u001b[49m\n\u001b[1;32m    304\u001b[0m     \u001b[38;5;28;01mif\u001b[39;00m fs\u001b[38;5;241m.\u001b[39mprotocol \u001b[38;5;241m==\u001b[39m \u001b[38;5;124m\"\u001b[39m\u001b[38;5;124mfile\u001b[39m\u001b[38;5;124m\"\u001b[39m:\n\u001b[1;32m    305\u001b[0m         fs\u001b[38;5;241m.\u001b[39mauto_mkdir \u001b[38;5;241m=\u001b[39m auto_mkdir\n",
      "File \u001b[0;32m~/Desktop/nse_pipeline/my_env/lib/python3.9/site-packages/fsspec/core.py:655\u001b[0m, in \u001b[0;36mget_fs_token_paths\u001b[0;34m(urlpath, mode, num, name_function, storage_options, protocol, expand)\u001b[0m\n\u001b[1;32m    653\u001b[0m \u001b[38;5;28;01mif\u001b[39;00m protocol:\n\u001b[1;32m    654\u001b[0m     storage_options[\u001b[38;5;124m\"\u001b[39m\u001b[38;5;124mprotocol\u001b[39m\u001b[38;5;124m\"\u001b[39m] \u001b[38;5;241m=\u001b[39m protocol\n\u001b[0;32m--> 655\u001b[0m chain \u001b[38;5;241m=\u001b[39m \u001b[43m_un_chain\u001b[49m\u001b[43m(\u001b[49m\u001b[43murlpath0\u001b[49m\u001b[43m,\u001b[49m\u001b[43m \u001b[49m\u001b[43mstorage_options\u001b[49m\u001b[43m \u001b[49m\u001b[38;5;129;43;01mor\u001b[39;49;00m\u001b[43m \u001b[49m\u001b[43m{\u001b[49m\u001b[43m}\u001b[49m\u001b[43m)\u001b[49m\n\u001b[1;32m    656\u001b[0m inkwargs \u001b[38;5;241m=\u001b[39m {}\n\u001b[1;32m    657\u001b[0m \u001b[38;5;66;03m# Reverse iterate the chain, creating a nested target_* structure\u001b[39;00m\n",
      "File \u001b[0;32m~/Desktop/nse_pipeline/my_env/lib/python3.9/site-packages/fsspec/core.py:351\u001b[0m, in \u001b[0;36m_un_chain\u001b[0;34m(path, kwargs)\u001b[0m\n\u001b[1;32m    349\u001b[0m \u001b[38;5;28;01mfor\u001b[39;00m bit \u001b[38;5;129;01min\u001b[39;00m \u001b[38;5;28mreversed\u001b[39m(bits):\n\u001b[1;32m    350\u001b[0m     protocol \u001b[38;5;241m=\u001b[39m kwargs\u001b[38;5;241m.\u001b[39mpop(\u001b[38;5;124m\"\u001b[39m\u001b[38;5;124mprotocol\u001b[39m\u001b[38;5;124m\"\u001b[39m, \u001b[38;5;28;01mNone\u001b[39;00m) \u001b[38;5;129;01mor\u001b[39;00m split_protocol(bit)[\u001b[38;5;241m0\u001b[39m] \u001b[38;5;129;01mor\u001b[39;00m \u001b[38;5;124m\"\u001b[39m\u001b[38;5;124mfile\u001b[39m\u001b[38;5;124m\"\u001b[39m\n\u001b[0;32m--> 351\u001b[0m     \u001b[38;5;28mcls\u001b[39m \u001b[38;5;241m=\u001b[39m \u001b[43mget_filesystem_class\u001b[49m\u001b[43m(\u001b[49m\u001b[43mprotocol\u001b[49m\u001b[43m)\u001b[49m\n\u001b[1;32m    352\u001b[0m     extra_kwargs \u001b[38;5;241m=\u001b[39m \u001b[38;5;28mcls\u001b[39m\u001b[38;5;241m.\u001b[39m_get_kwargs_from_urls(bit)\n\u001b[1;32m    353\u001b[0m     kws \u001b[38;5;241m=\u001b[39m kwargs\u001b[38;5;241m.\u001b[39mpop(protocol, {})\n",
      "File \u001b[0;32m~/Desktop/nse_pipeline/my_env/lib/python3.9/site-packages/fsspec/registry.py:243\u001b[0m, in \u001b[0;36mget_filesystem_class\u001b[0;34m(protocol)\u001b[0m\n\u001b[1;32m    241\u001b[0m \u001b[38;5;28;01mif\u001b[39;00m protocol \u001b[38;5;129;01mnot\u001b[39;00m \u001b[38;5;129;01min\u001b[39;00m registry:\n\u001b[1;32m    242\u001b[0m     \u001b[38;5;28;01mif\u001b[39;00m protocol \u001b[38;5;129;01mnot\u001b[39;00m \u001b[38;5;129;01min\u001b[39;00m known_implementations:\n\u001b[0;32m--> 243\u001b[0m         \u001b[38;5;28;01mraise\u001b[39;00m \u001b[38;5;167;01mValueError\u001b[39;00m(\u001b[38;5;124mf\u001b[39m\u001b[38;5;124m\"\u001b[39m\u001b[38;5;124mProtocol not known: \u001b[39m\u001b[38;5;132;01m{\u001b[39;00mprotocol\u001b[38;5;132;01m}\u001b[39;00m\u001b[38;5;124m\"\u001b[39m)\n\u001b[1;32m    244\u001b[0m     bit \u001b[38;5;241m=\u001b[39m known_implementations[protocol]\n\u001b[1;32m    245\u001b[0m     \u001b[38;5;28;01mtry\u001b[39;00m:\n",
      "\u001b[0;31mValueError\u001b[0m: Protocol not known: azureml"
     ]
    }
   ],
   "source": [
    "# Example: Azure Blob Storage or other supported locations\n",
    "if data_asset.path.startswith(\"azureml://\"):\n",
    "    # You may need to resolve the URL or download using fsspec or another method\n",
    "    import fsspec\n",
    "\n",
    "    # Open the data asset using fsspec\n",
    "    with fsspec.open(data_asset.path, mode=\"r\") as file:\n",
    "        df = pd.read_csv(file)\n",
    "\n",
    "else:\n",
    "    # If it's already a file path, download or use as needed\n",
    "    local_path = \"./nse_data.csv\"  # Specify the local path to save the file\n",
    "    df = pd.read_csv(data_asset.path)\n",
    "\n",
    "# Display the DataFrame\n",
    "print(df.head())"
   ]
  },
  {
   "cell_type": "code",
   "execution_count": 12,
   "id": "dfe2e928",
   "metadata": {},
   "outputs": [],
   "source": [
    "experiment_name = 'nse_experiment'\n",
    "exp = Experiment(ws,experiment_name)\n"
   ]
  },
  {
   "cell_type": "code",
   "execution_count": null,
   "id": "c60edd36",
   "metadata": {},
   "outputs": [],
   "source": []
  },
  {
   "cell_type": "code",
   "execution_count": null,
   "id": "cfe2fb86",
   "metadata": {},
   "outputs": [],
   "source": []
  }
 ],
 "metadata": {
  "kernelspec": {
   "display_name": "Python (my_env)",
   "language": "python",
   "name": "my_env"
  },
  "language_info": {
   "codemirror_mode": {
    "name": "ipython",
    "version": 3
   },
   "file_extension": ".py",
   "mimetype": "text/x-python",
   "name": "python",
   "nbconvert_exporter": "python",
   "pygments_lexer": "ipython3",
   "version": "3.9.6"
  }
 },
 "nbformat": 4,
 "nbformat_minor": 5
}
