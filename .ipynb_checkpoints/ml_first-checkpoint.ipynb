{
 "cells": [
  {
   "cell_type": "code",
   "execution_count": 1,
   "id": "91013a5b",
   "metadata": {},
   "outputs": [],
   "source": [
    "import azure.core\n",
    "from azureml.core import Workspace,Environment,Experiment,ScriptRunConfig\n",
    "from azureml.core.compute import AmlCompute, ComputeTarget\n",
    "from azureml.core.compute_target import ComputeTargetException\n",
    "import json\n",
    "from azure.ai.ml import MLClient\n",
    "from azure.identity import DefaultAzureCredential"
   ]
  },
  {
   "cell_type": "code",
   "execution_count": 2,
   "id": "07c853ca",
   "metadata": {},
   "outputs": [],
   "source": [
    "with open(\"config.json\", \"r\") as f:\n",
    "    config = json.load(f)"
   ]
  },
  {
   "cell_type": "code",
   "execution_count": 3,
   "id": "eb7accff",
   "metadata": {},
   "outputs": [],
   "source": [
    "subscription_id = config[\"subscription_id\"]\n",
    "resource_group = config[\"resource_group\"]\n",
    "workspace_name = config[\"workspace_name\"]"
   ]
  },
  {
   "cell_type": "code",
   "execution_count": 4,
   "id": "cb3d8e5d",
   "metadata": {},
   "outputs": [
    {
     "name": "stderr",
     "output_type": "stream",
     "text": [
      "Warning: Falling back to use azure cli login credentials.\n",
      "If you run your code in unattended mode, i.e., where you can't give a user input, then we recommend to use ServicePrincipalAuthentication or MsiAuthentication.\n",
      "Please refer to aka.ms/aml-notebook-auth for different authentication mechanisms in azureml-sdk.\n"
     ]
    },
    {
     "data": {
      "text/plain": [
       "Workspace.create(name='mlprojectexperiments', subscription_id='a9be2bae-a7e2-4890-9232-48dc82eb3c71', resource_group='mlproject')"
      ]
     },
     "execution_count": 4,
     "metadata": {},
     "output_type": "execute_result"
    }
   ],
   "source": [
    "Workspace.from_config()"
   ]
  },
  {
   "cell_type": "code",
   "execution_count": 5,
   "id": "8491419e",
   "metadata": {},
   "outputs": [],
   "source": [
    "credential = DefaultAzureCredential()\n",
    "ml_client = MLClient(credential, subscription_id, resource_group, workspace_name)"
   ]
  },
  {
   "cell_type": "code",
   "execution_count": null,
   "id": "5c61f044",
   "metadata": {},
   "outputs": [
    {
     "data": {
      "text/plain": [
       "ComputeInstance({'state': 'Running', 'last_operation': {'operation_name': 'Create', 'operation_time': '2025-01-20T09:22:34.914Z', 'operation_status': 'Succeeded', 'operation_trigger': 'User'}, 'os_image_metadata': <azure.ai.ml.entities._compute._image_metadata.ImageMetadata object at 0x7fd2e413bee0>, 'services': [{'display_name': 'Jupyter', 'endpoint_uri': 'https://basic-ci202501201452.southindia.instances.azureml.ms/tree/'}, {'display_name': 'Jupyter Lab', 'endpoint_uri': 'https://basic-ci202501201452.southindia.instances.azureml.ms/lab'}], 'type': 'computeinstance', 'created_on': '2025-01-20T09:22:27.025506+0000', 'provisioning_state': 'Succeeded', 'provisioning_errors': None, 'name': 'basic-ci202501201452', 'description': None, 'tags': None, 'properties': {}, 'print_as_yaml': False, 'id': '/subscriptions/a9be2bae-a7e2-4890-9232-48dc82eb3c71/resourceGroups/mlproject/providers/Microsoft.MachineLearningServices/workspaces/mlprojectexperiments/computes/basic-ci202501201452', 'Resource__source_path': '', 'base_path': '/Users/sunilsharma/Desktop/nse_pipeline', 'creation_context': None, 'serialize': <msrest.serialization.Serializer object at 0x7fd2e413b700>, 'resource_id': None, 'location': 'southindia', 'size': 'Standard_D2_v2', 'ssh_public_access_enabled': False, 'create_on_behalf_of': None, 'network_settings': <azure.ai.ml.entities._compute.compute.NetworkSettings object at 0x7fd2e413bfd0>, 'ssh_settings': <azure.ai.ml.entities._compute.compute_instance.ComputeInstanceSshSettings object at 0x7fd2e413b970>, 'schedules': None, 'identity': None, 'idle_time_before_shutdown': None, 'idle_time_before_shutdown_minutes': None, 'setup_scripts': None, 'enable_node_public_ip': True, 'enable_sso': True, 'enable_root_access': True, 'release_quota_on_stop': False, 'enable_os_patching': False, 'custom_applications': None, 'subnet': None})"
      ]
     },
     "execution_count": 8,
     "metadata": {},
     "output_type": "execute_result"
    }
   ],
   "source": [
    "#from azure.ai.ml.entities import ComputeInstance, AmlCompute\n",
    "#import datetime\n",
    "\n",
    "#ci_basic_name = \"basic-ci\" + datetime.datetime.now().strftime(\"%Y%m%d%H%M\")\n",
    "#ci_basic = ComputeInstance(name=ci_basic_name, size=\"Standard_D2_v2\")\n",
    "#ml_client.begin_create_or_update(ci_basic).result()"
   ]
  },
  {
   "cell_type": "code",
   "execution_count": 6,
   "id": "0eb7865f",
   "metadata": {},
   "outputs": [],
   "source": [
    "ws = Workspace.from_config()\n",
    "aml_compute_target = \"basic-ci202501201452\"\n",
    "# Retrieve the existing compute target\n",
    "compute_target = ComputeTarget(workspace=ws, name=aml_compute_target)"
   ]
  },
  {
   "cell_type": "code",
   "execution_count": 14,
   "id": "d7749f23",
   "metadata": {},
   "outputs": [
    {
     "name": "stdout",
     "output_type": "stream",
     "text": [
      "Datastore nsemldatastore registered successfully.\n"
     ]
    }
   ],
   "source": [
    "\"\"\"\"from azureml.core.datastore import Datastore\n",
    "\n",
    "# Register Azure Blob Storage datastore\n",
    "datastore_name = \"nsemldatastore\"  \n",
    "container_name = \"gold\"       # Azure Blob Storage container name\n",
    "account_name = \"nseblob\"        # Azure Storage account name\n",
    "account_key = \"thGD5YyuxbxT+v9VM8dyKGCkVaQXBugFA7xFARaZJ5PgaYCs1w1sBZyga8gEh0ERsD80+oIkTpgq+AStmna9IQ==\"          # Azure Storage account key\n",
    "\n",
    "# Register the datastore\n",
    "blob_datastore = Datastore.register_azure_blob_container(\n",
    "    workspace=ws,\n",
    "    datastore_name=datastore_name,\n",
    "    container_name=container_name,\n",
    "    account_name=account_name,\n",
    "    account_key=account_key\n",
    ")\n",
    "\n",
    "print(f\"Datastore {datastore_name} registered successfully.\")\"\"\"\n"
   ]
  },
  {
   "cell_type": "code",
   "execution_count": 12,
   "id": "dfe2e928",
   "metadata": {},
   "outputs": [],
   "source": [
    "experiment_name = 'nse_experiment'\n",
    "exp = Experiment(ws,experiment_name)\n"
   ]
  },
  {
   "cell_type": "code",
   "execution_count": null,
   "id": "c60edd36",
   "metadata": {},
   "outputs": [],
   "source": []
  },
  {
   "cell_type": "code",
   "execution_count": null,
   "id": "cfe2fb86",
   "metadata": {},
   "outputs": [],
   "source": []
  }
 ],
 "metadata": {
  "kernelspec": {
   "display_name": "Python (my_env)",
   "language": "python",
   "name": "my_env"
  },
  "language_info": {
   "codemirror_mode": {
    "name": "ipython",
    "version": 3
   },
   "file_extension": ".py",
   "mimetype": "text/x-python",
   "name": "python",
   "nbconvert_exporter": "python",
   "pygments_lexer": "ipython3",
   "version": "3.9.6"
  }
 },
 "nbformat": 4,
 "nbformat_minor": 5
}
