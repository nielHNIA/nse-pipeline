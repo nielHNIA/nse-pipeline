{
 "cells": [
  {
   "cell_type": "code",
   "execution_count": 4,
   "id": "64aa9541",
   "metadata": {},
   "outputs": [],
   "source": [
    "from azure.ai.ml.entities import Model\n",
    "from azure.ai.ml.constants import AssetTypes"
   ]
  },
  {
   "cell_type": "code",
   "execution_count": 5,
   "id": "f258e22d",
   "metadata": {},
   "outputs": [
    {
     "name": "stderr",
     "output_type": "stream",
     "text": [
      "Found the config file in: ./config.json\n"
     ]
    }
   ],
   "source": [
    "ml_client = MLClient.from_config(credential=DefaultAzureCredential())"
   ]
  },
  {
   "cell_type": "code",
   "execution_count": 6,
   "id": "0a000932",
   "metadata": {},
   "outputs": [
    {
     "data": {
      "text/plain": [
       "Model({'job_name': None, 'intellectual_property': None, 'is_anonymous': False, 'auto_increment_version': False, 'auto_delete_setting': None, 'name': 'reliance_model', 'description': 'Model created from cloud path.', 'tags': {}, 'properties': {}, 'print_as_yaml': False, 'id': '/subscriptions/a9be2bae-a7e2-4890-9232-48dc82eb3c71/resourceGroups/mlproject/providers/Microsoft.MachineLearningServices/workspaces/mlprojectexperiments/models/reliance_model/versions/1', 'Resource__source_path': '', 'base_path': '/Users/sunilsharma/Desktop/azure_pipeline/nse_pipeline', 'creation_context': <azure.ai.ml.entities._system_data.SystemData object at 0x7fd1a16d93a0>, 'serialize': <msrest.serialization.Serializer object at 0x7fd1a16d9610>, 'version': '1', 'latest_version': None, 'path': 'azureml://subscriptions/a9be2bae-a7e2-4890-9232-48dc82eb3c71/resourceGroups/mlproject/workspaces/mlprojectexperiments/datastores/azure_sdk_model/paths/reliance_model.pkl', 'datastore': None, 'utc_time_created': None, 'flavors': None, 'arm_type': 'model_version', 'type': 'custom_model', 'stage': 'Development'})"
      ]
     },
     "execution_count": 6,
     "metadata": {},
     "output_type": "execute_result"
    }
   ],
   "source": [
    "cloud_model = Model(\n",
    "    path=\"azureml://subscriptions/a9be2bae-a7e2-4890-9232-48dc82eb3c71/resourcegroups/mlproject/workspaces/mlprojectexperiments/datastores/azure_sdk_model/paths/reliance_model.pkl\",\n",
    "    # The above line basically provides a path in the format \"azureml://subscriptions/XXXXXXXXXXXXXXXX/resourceGroups/XXXXXXXXXXX/workspaces/XXXXXXXXXXX/datastores/workspaceblobstore/paths/model.pkl\"\n",
    "    # Users could also use,\"azureml://datastores/workspaceblobstore/paths/model.pkl\" as a shorthand to the same location\n",
    "    name=\"reliance_model\",\n",
    "    type=AssetTypes.CUSTOM_MODEL,\n",
    "    description=\"Model created from cloud path.\",\n",
    ")\n",
    "ml_client.models.create_or_update(cloud_model)"
   ]
  },
  {
   "cell_type": "code",
   "execution_count": null,
   "id": "90aa8a47",
   "metadata": {},
   "outputs": [],
   "source": []
  }
 ],
 "metadata": {
  "kernelspec": {
   "display_name": "my_env",
   "language": "python",
   "name": "python3"
  },
  "language_info": {
   "codemirror_mode": {
    "name": "ipython",
    "version": 3
   },
   "file_extension": ".py",
   "mimetype": "text/x-python",
   "name": "python",
   "nbconvert_exporter": "python",
   "pygments_lexer": "ipython3",
   "version": "3.9.6"
  }
 },
 "nbformat": 4,
 "nbformat_minor": 5
}
