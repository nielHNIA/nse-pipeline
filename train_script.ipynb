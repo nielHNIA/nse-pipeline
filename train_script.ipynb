{
 "cells": [
  {
   "cell_type": "markdown",
   "id": "fb7c6187",
   "metadata": {},
   "source": []
  },
  {
   "cell_type": "code",
   "execution_count": 14,
   "id": "d374b73d",
   "metadata": {},
   "outputs": [],
   "source": [
    "from azureml.core import Workspace, Dataset, Datastore, Experiment, Run\n",
    "\n"
   ]
  },
  {
   "cell_type": "code",
   "execution_count": 13,
   "id": "2dff41c6",
   "metadata": {},
   "outputs": [],
   "source": [
    "ws = Workspace.from_config()\n",
    "az_store = Datastore.get(ws, \"azure_sdk_nse_blob\")\n",
    "az_dataset = Dataset.get_by_name(ws, \"final_data_stocks\")\n",
    "\n"
   ]
  },
  {
   "cell_type": "code",
   "execution_count": null,
   "id": "2e70dc55",
   "metadata": {},
   "outputs": [],
   "source": [
    "new_run = Run.get_context()"
   ]
  },
  {
   "cell_type": "code",
   "execution_count": null,
   "id": "48f784f3",
   "metadata": {},
   "outputs": [],
   "source": [
    "import pandas as pd\n",
    "from statsmodels.tsa.arima.model import ARIMA\n",
    "from sklearn.metrics import mean_absolute_error, mean_squared_error\n",
    "\n",
    "df = az_dataset.to_pandas_dataframe()\n",
    "df.set_index(\"Date\", inplace=True)\n",
    "# Extract individual log return series\n",
    "stocks = [\"RELIANCE_log_returns\", \"TCS_log_returns\", \"HDFCBANK_log_returns\"]\n",
    "\n",
    "# Train-Test Split Ratio\n",
    "train_ratio = 0.8\n",
    "\n",
    "# Dictionary to store model results\n",
    "results = {}\n",
    "\n",
    "# Function to fit ARIMA model\n",
    "def fit_arima_model(train, test, stock_name):\n",
    "    # Order of ARIMA (p,d,q) - can be tuned using AIC/BIC or auto_arima\n",
    "    order = (1, 1, 1)  # Example order, can be optimized\n",
    "\n",
    "    # Train ARIMA model\n",
    "    model = ARIMA(train, order=order)\n",
    "    model_fit = model.fit()\n",
    "\n",
    "    # Forecast\n",
    "    forecast = model_fit.forecast(steps=len(test))\n",
    "\n",
    "    # Compute evaluation metrics\n",
    "    mae = mean_absolute_error(test, forecast)\n",
    "    rmse = np.sqrt(mean_squared_error(test, forecast))\n",
    "\n",
    "    # Store results\n",
    "    results[stock_name] = {\"model\": model_fit, \"forecast\": forecast, \"mae\": mae, \"rmse\": rmse}\n",
    "\n",
    "    \"\"\"# Plot actual vs forecast\n",
    "    plt.figure(figsize=(10, 4))\n",
    "    plt.plot(test.index, test, label=\"Actual\")\n",
    "    plt.plot(test.index, forecast, label=\"Forecast\", linestyle=\"dashed\")\n",
    "    plt.title(f\"ARIMA Forecast for {stock_name}\")\n",
    "    plt.legend()\n",
    "    plt.show()\"\"\"\n",
    "\n",
    "    print(f\"Stock: {stock_name}\")\n",
    "    print(f\"MAE: {mae:.4f}, RMSE: {rmse:.4f}\\n\")\n",
    "\n",
    "# Apply ARIMA to each stock's log returns\n",
    "for stock in stocks:\n",
    "    series = df[stock].dropna()  # Remove NaN values if any\n",
    "\n",
    "    # Train-Test Split\n",
    "    train_size = int(len(series) * train_ratio)\n",
    "    train, test = series[:train_size], series[train_size:]\n",
    "\n",
    "    # Fit ARIMA Model\n",
    "    fit_arima_model(train, test, stock)\n",
    "\n",
    "# Display overall results\n",
    "print(\"ARIMA Model Results:\")\n",
    "for stock, res in results.items():\n",
    "    print(f\"{stock}: MAE = {res['mae']:.4f}, RMSE = {res['rmse']:.4f}\")\n"
   ]
  },
  {
   "cell_type": "code",
   "execution_count": null,
   "id": "cbc89d5c",
   "metadata": {},
   "outputs": [],
   "source": [
    "\n",
    "new_run.log(\"ARIMA Model Results:\")\n",
    "for stock, res in results.items():\n",
    "    new_run.log(f\"{stock}: MAE = {res['mae']:.4f}, RMSE = {res['rmse']:.4f}\")"
   ]
  },
  {
   "cell_type": "code",
   "execution_count": 7,
   "id": "cd9be368",
   "metadata": {},
   "outputs": [],
   "source": [
    "#experiment2 = Experiment(workspace=ws, name=\"Stocks-exp02\")"
   ]
  },
  {
   "cell_type": "code",
   "execution_count": 8,
   "id": "6c13aaab",
   "metadata": {},
   "outputs": [],
   "source": [
    "#running an experiment\n",
    "#new_run = experiment.start_logging(snapshot_directory=None)"
   ]
  },
  {
   "cell_type": "code",
   "execution_count": 9,
   "id": "631a877f",
   "metadata": {},
   "outputs": [
    {
     "name": "stdout",
     "output_type": "stream",
     "text": [
      "{'infer_column_types': 'False', 'activity': 'to_pandas_dataframe'}\n",
      "{'infer_column_types': 'False', 'activity': 'to_pandas_dataframe', 'activityApp': 'TabularDataset'}\n"
     ]
    }
   ],
   "source": [
    "#df = az_dataset.to_pandas_dataframe()\n",
    "#total_observations = len(df)"
   ]
  },
  {
   "cell_type": "code",
   "execution_count": 10,
   "id": "399de02a",
   "metadata": {},
   "outputs": [],
   "source": [
    "#new_run.log(\"total observations\", total_observations)"
   ]
  },
  {
   "cell_type": "code",
   "execution_count": 11,
   "id": "cd99aa5a",
   "metadata": {},
   "outputs": [],
   "source": [
    "new_run.complete()"
   ]
  },
  {
   "cell_type": "code",
   "execution_count": null,
   "id": "8be279d2",
   "metadata": {},
   "outputs": [],
   "source": []
  }
 ],
 "metadata": {
  "kernelspec": {
   "display_name": "my_env",
   "language": "python",
   "name": "python3"
  },
  "language_info": {
   "codemirror_mode": {
    "name": "ipython",
    "version": 3
   },
   "file_extension": ".py",
   "mimetype": "text/x-python",
   "name": "python",
   "nbconvert_exporter": "python",
   "pygments_lexer": "ipython3",
   "version": "3.9.6"
  }
 },
 "nbformat": 4,
 "nbformat_minor": 5
}
