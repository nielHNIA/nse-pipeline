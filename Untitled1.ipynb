{
 "cells": [
  {
   "cell_type": "code",
   "execution_count": 1,
   "id": "d374b73d",
   "metadata": {},
   "outputs": [
    {
     "ename": "NameError",
     "evalue": "name 'blob_datastore' is not defined",
     "output_type": "error",
     "traceback": [
      "\u001b[0;31m---------------------------------------------------------------------------\u001b[0m",
      "\u001b[0;31mNameError\u001b[0m                                 Traceback (most recent call last)",
      "Cell \u001b[0;32mIn[1], line 5\u001b[0m\n\u001b[1;32m      3\u001b[0m \u001b[38;5;66;03m# Access the CSV file in the container\u001b[39;00m\n\u001b[1;32m      4\u001b[0m csv_path \u001b[38;5;241m=\u001b[39m \u001b[38;5;124m\"\u001b[39m\u001b[38;5;124mazureml://subscriptions/a9be2bae-a7e2-4890-9232-48dc82eb3c71/resourcegroups/mlproject/workspaces/mlprojectexperiments/datastores/nsemldatastore/paths/final_nse.csv/\u001b[39m\u001b[38;5;124m\"\u001b[39m\n\u001b[0;32m----> 5\u001b[0m dataset \u001b[38;5;241m=\u001b[39m Dataset\u001b[38;5;241m.\u001b[39mTabular\u001b[38;5;241m.\u001b[39mfrom_delimited_files(path\u001b[38;5;241m=\u001b[39m(\u001b[43mblob_datastore\u001b[49m, csv_path))\n",
      "\u001b[0;31mNameError\u001b[0m: name 'blob_datastore' is not defined"
     ]
    }
   ],
   "source": [
    "from azureml.core.dataset import Dataset\n",
    "import pandas as pd\n",
    "# Access the CSV file in the container\n",
    "csv_path = \"azureml://subscriptions/a9be2bae-a7e2-4890-9232-48dc82eb3c71/resourcegroups/mlproject/workspaces/mlprojectexperiments/datastores/nsemldatastore/paths/final_nse.csv/\"\n",
    "dataset = Dataset.Tabular.from_delimited_files(path=(blob_datastore, csv_path))\n",
    "\n"
   ]
  },
  {
   "cell_type": "code",
   "execution_count": null,
   "id": "2dff41c6",
   "metadata": {},
   "outputs": [],
   "source": [
    "# Convert the dataset to a pandas DataFrame (optional)\n",
    "df = dataset.to_pandas_dataframe()\n",
    "print(df.head())\n"
   ]
  }
 ],
 "metadata": {
  "kernelspec": {
   "display_name": "Python (my_env)",
   "language": "python",
   "name": "my_env"
  },
  "language_info": {
   "codemirror_mode": {
    "name": "ipython",
    "version": 3
   },
   "file_extension": ".py",
   "mimetype": "text/x-python",
   "name": "python",
   "nbconvert_exporter": "python",
   "pygments_lexer": "ipython3",
   "version": "3.9.6"
  }
 },
 "nbformat": 4,
 "nbformat_minor": 5
}
